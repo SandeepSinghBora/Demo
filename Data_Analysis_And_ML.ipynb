{
 "cells": [
  {
   "cell_type": "code",
   "execution_count": 1,
   "id": "ae0c8634",
   "metadata": {
    "slideshow": {
     "slide_type": "slide"
    }
   },
   "outputs": [],
   "source": [
    " from googlesearch import search \n"
   ]
  },
  {
   "cell_type": "code",
   "execution_count": 2,
   "id": "a3c86c14",
   "metadata": {
    "slideshow": {
     "slide_type": "slide"
    }
   },
   "outputs": [],
   "source": [
    "query=\"pilani\""
   ]
  },
  {
   "cell_type": "code",
   "execution_count": 3,
   "id": "10e6f855",
   "metadata": {
    "slideshow": {
     "slide_type": "slide"
    }
   },
   "outputs": [],
   "source": [
    "import requests\n",
    "from bs4 import BeautifulSoup\n",
    "import pandas as pd"
   ]
  },
  {
   "cell_type": "code",
   "execution_count": 4,
   "id": "5aeb6faa",
   "metadata": {
    "slideshow": {
     "slide_type": "slide"
    }
   },
   "outputs": [],
   "source": [
    "url=\"https://www.interviewbit.com/blog/what-are-the-characteristics-of-software/\""
   ]
  },
  {
   "cell_type": "code",
   "execution_count": 5,
   "id": "2ee722e7",
   "metadata": {},
   "outputs": [],
   "source": [
    "res=requests.get(url)"
   ]
  },
  {
   "cell_type": "code",
   "execution_count": 6,
   "id": "951da68a",
   "metadata": {},
   "outputs": [],
   "source": [
    "soup=BeautifulSoup(res.text,\"html.parser\")"
   ]
  },
  {
   "cell_type": "code",
   "execution_count": 7,
   "id": "4688c39a",
   "metadata": {},
   "outputs": [],
   "source": [
    "text=soup.get_text()"
   ]
  },
  {
   "cell_type": "code",
   "execution_count": 8,
   "id": "4d5a55cd",
   "metadata": {},
   "outputs": [
    {
     "data": {
      "text/plain": [
       "14882"
      ]
     },
     "execution_count": 8,
     "metadata": {},
     "output_type": "execute_result"
    }
   ],
   "source": [
    "len(text)"
   ]
  },
  {
   "cell_type": "code",
   "execution_count": 9,
   "id": "f78d4107",
   "metadata": {},
   "outputs": [],
   "source": [
    "import pandas as pd\n",
    "import numpy as np\n"
   ]
  },
  {
   "cell_type": "code",
   "execution_count": 10,
   "id": "20c588a2",
   "metadata": {
    "slideshow": {
     "slide_type": "skip"
    }
   },
   "outputs": [],
   "source": [
    "unicorn_startup=pd.read_csv(\"Indian Unicorn startups 2023 updated.csv\") "
   ]
  },
  {
   "cell_type": "code",
   "execution_count": 11,
   "id": "a6baf047",
   "metadata": {
    "scrolled": true
   },
   "outputs": [
    {
     "data": {
      "text/html": [
       "<div>\n",
       "<style scoped>\n",
       "    .dataframe tbody tr th:only-of-type {\n",
       "        vertical-align: middle;\n",
       "    }\n",
       "\n",
       "    .dataframe tbody tr th {\n",
       "        vertical-align: top;\n",
       "    }\n",
       "\n",
       "    .dataframe thead th {\n",
       "        text-align: right;\n",
       "    }\n",
       "</style>\n",
       "<table border=\"1\" class=\"dataframe\">\n",
       "  <thead>\n",
       "    <tr style=\"text-align: right;\">\n",
       "      <th></th>\n",
       "      <th>No.</th>\n",
       "      <th>Company</th>\n",
       "      <th>Sector</th>\n",
       "      <th>Entry Valuation^^ ($B)</th>\n",
       "      <th>Valuation ($B)</th>\n",
       "      <th>Entry</th>\n",
       "      <th>Location</th>\n",
       "      <th>Select Investors</th>\n",
       "    </tr>\n",
       "  </thead>\n",
       "  <tbody>\n",
       "    <tr>\n",
       "      <th>0</th>\n",
       "      <td>1</td>\n",
       "      <td>InMobi</td>\n",
       "      <td>Adtech - Mobile Ads</td>\n",
       "      <td>1.00</td>\n",
       "      <td>1.00</td>\n",
       "      <td>Sep/2011</td>\n",
       "      <td>Bangalore/Singapore</td>\n",
       "      <td>KPCB, Sherpalo Ventures, SoftBank</td>\n",
       "    </tr>\n",
       "    <tr>\n",
       "      <th>1</th>\n",
       "      <td>2</td>\n",
       "      <td>Flipkart^</td>\n",
       "      <td>E-Commerce</td>\n",
       "      <td>1.00</td>\n",
       "      <td>37.60</td>\n",
       "      <td>Feb/2012</td>\n",
       "      <td>Bangalore/Singapore</td>\n",
       "      <td>Accel, Tiger Global, Naspers, SoftBank, Tencent</td>\n",
       "    </tr>\n",
       "    <tr>\n",
       "      <th>2</th>\n",
       "      <td>3</td>\n",
       "      <td>Mu Sigma</td>\n",
       "      <td>SaaS - Analytics</td>\n",
       "      <td>1.00</td>\n",
       "      <td>1.50</td>\n",
       "      <td>Feb/2013</td>\n",
       "      <td>Bangalore/Chicago</td>\n",
       "      <td>Accel, Sequoia Capital, General Atlantic</td>\n",
       "    </tr>\n",
       "    <tr>\n",
       "      <th>3</th>\n",
       "      <td>4</td>\n",
       "      <td>Snapdeal*</td>\n",
       "      <td>E-Commerce</td>\n",
       "      <td>1.80</td>\n",
       "      <td>2.40</td>\n",
       "      <td>Oct/2014</td>\n",
       "      <td>Delhi</td>\n",
       "      <td>Kalaari Capital, Nexus Ventures, Bessemer, Sof...</td>\n",
       "    </tr>\n",
       "    <tr>\n",
       "      <th>4</th>\n",
       "      <td>5</td>\n",
       "      <td>PayTM^</td>\n",
       "      <td>Fintech - Payments &amp; Wallet</td>\n",
       "      <td>1.70</td>\n",
       "      <td>16.00</td>\n",
       "      <td>Feb/2015</td>\n",
       "      <td>Noida</td>\n",
       "      <td>Saama Capital, Elevation Capital, Alibaba, Ber...</td>\n",
       "    </tr>\n",
       "    <tr>\n",
       "      <th>...</th>\n",
       "      <td>...</td>\n",
       "      <td>...</td>\n",
       "      <td>...</td>\n",
       "      <td>...</td>\n",
       "      <td>...</td>\n",
       "      <td>...</td>\n",
       "      <td>...</td>\n",
       "      <td>...</td>\n",
       "    </tr>\n",
       "    <tr>\n",
       "      <th>97</th>\n",
       "      <td>98</td>\n",
       "      <td>Purplle</td>\n",
       "      <td>E-Commerce - Personal Care &amp; Cosmetics</td>\n",
       "      <td>1.10</td>\n",
       "      <td>1.10</td>\n",
       "      <td>Jun/2022</td>\n",
       "      <td>Mumbai</td>\n",
       "      <td>JSW Ventures, IvyCap Ventures, Blume Ventures,...</td>\n",
       "    </tr>\n",
       "    <tr>\n",
       "      <th>98</th>\n",
       "      <td>99</td>\n",
       "      <td>Leadsquared</td>\n",
       "      <td>SaaS - CRM</td>\n",
       "      <td>1.00</td>\n",
       "      <td>1.00</td>\n",
       "      <td>Jun/2022</td>\n",
       "      <td>Bangalore</td>\n",
       "      <td>Stakeboat Capital, Gaja Capital, WestBridge</td>\n",
       "    </tr>\n",
       "    <tr>\n",
       "      <th>99</th>\n",
       "      <td>100</td>\n",
       "      <td>OneCard</td>\n",
       "      <td>Fintech - Credit Cards</td>\n",
       "      <td>1.30</td>\n",
       "      <td>1.30</td>\n",
       "      <td>Jul/2022</td>\n",
       "      <td>Pune</td>\n",
       "      <td>QED Investors, Matrix Partners India, Sequoia ...</td>\n",
       "    </tr>\n",
       "    <tr>\n",
       "      <th>100</th>\n",
       "      <td>101</td>\n",
       "      <td>Shiprocket</td>\n",
       "      <td>Aggregator - Logistics Services</td>\n",
       "      <td>1.23</td>\n",
       "      <td>1.23</td>\n",
       "      <td>Aug/2022</td>\n",
       "      <td>Delhi</td>\n",
       "      <td>Lightrock India, Info Edge, Tribe Capital, Tem...</td>\n",
       "    </tr>\n",
       "    <tr>\n",
       "      <th>101</th>\n",
       "      <td>102</td>\n",
       "      <td>Molbio Diagnostics</td>\n",
       "      <td>Healthtech - Diagnostics</td>\n",
       "      <td>1.53</td>\n",
       "      <td>1.53</td>\n",
       "      <td>Sep/2022</td>\n",
       "      <td>Goa</td>\n",
       "      <td>Temasek, Motilal Oswal</td>\n",
       "    </tr>\n",
       "  </tbody>\n",
       "</table>\n",
       "<p>102 rows × 8 columns</p>\n",
       "</div>"
      ],
      "text/plain": [
       "     No.             Company                                  Sector  \\\n",
       "0      1              InMobi                     Adtech - Mobile Ads   \n",
       "1      2           Flipkart^                              E-Commerce   \n",
       "2      3            Mu Sigma                        SaaS - Analytics   \n",
       "3      4           Snapdeal*                              E-Commerce   \n",
       "4      5              PayTM^             Fintech - Payments & Wallet   \n",
       "..   ...                 ...                                     ...   \n",
       "97    98             Purplle  E-Commerce - Personal Care & Cosmetics   \n",
       "98    99         Leadsquared                              SaaS - CRM   \n",
       "99   100             OneCard                  Fintech - Credit Cards   \n",
       "100  101          Shiprocket         Aggregator - Logistics Services   \n",
       "101  102  Molbio Diagnostics                Healthtech - Diagnostics   \n",
       "\n",
       "     Entry Valuation^^ ($B)  Valuation ($B)     Entry             Location  \\\n",
       "0                      1.00            1.00  Sep/2011  Bangalore/Singapore   \n",
       "1                      1.00           37.60  Feb/2012  Bangalore/Singapore   \n",
       "2                      1.00            1.50  Feb/2013    Bangalore/Chicago   \n",
       "3                      1.80            2.40  Oct/2014                Delhi   \n",
       "4                      1.70           16.00  Feb/2015                Noida   \n",
       "..                      ...             ...       ...                  ...   \n",
       "97                     1.10            1.10  Jun/2022               Mumbai   \n",
       "98                     1.00            1.00  Jun/2022            Bangalore   \n",
       "99                     1.30            1.30  Jul/2022                 Pune   \n",
       "100                    1.23            1.23  Aug/2022                Delhi   \n",
       "101                    1.53            1.53  Sep/2022                  Goa   \n",
       "\n",
       "                                      Select Investors  \n",
       "0                    KPCB, Sherpalo Ventures, SoftBank  \n",
       "1      Accel, Tiger Global, Naspers, SoftBank, Tencent  \n",
       "2             Accel, Sequoia Capital, General Atlantic  \n",
       "3    Kalaari Capital, Nexus Ventures, Bessemer, Sof...  \n",
       "4    Saama Capital, Elevation Capital, Alibaba, Ber...  \n",
       "..                                                 ...  \n",
       "97   JSW Ventures, IvyCap Ventures, Blume Ventures,...  \n",
       "98         Stakeboat Capital, Gaja Capital, WestBridge  \n",
       "99   QED Investors, Matrix Partners India, Sequoia ...  \n",
       "100  Lightrock India, Info Edge, Tribe Capital, Tem...  \n",
       "101                             Temasek, Motilal Oswal  \n",
       "\n",
       "[102 rows x 8 columns]"
      ]
     },
     "execution_count": 11,
     "metadata": {},
     "output_type": "execute_result"
    }
   ],
   "source": [
    "unicorn_startup"
   ]
  },
  {
   "cell_type": "code",
   "execution_count": 12,
   "id": "bfb6ea56",
   "metadata": {
    "scrolled": false
   },
   "outputs": [
    {
     "data": {
      "text/plain": [
       "Index(['No.', 'Company', 'Sector', 'Entry Valuation^^ ($B)', 'Valuation ($B)',\n",
       "       'Entry', 'Location', 'Select Investors'],\n",
       "      dtype='object')"
      ]
     },
     "execution_count": 12,
     "metadata": {},
     "output_type": "execute_result"
    }
   ],
   "source": [
    "unicorn_startup.columns"
   ]
  },
  {
   "cell_type": "code",
   "execution_count": 13,
   "id": "d7b76726",
   "metadata": {
    "scrolled": true
   },
   "outputs": [
    {
     "data": {
      "text/html": [
       "<div>\n",
       "<style scoped>\n",
       "    .dataframe tbody tr th:only-of-type {\n",
       "        vertical-align: middle;\n",
       "    }\n",
       "\n",
       "    .dataframe tbody tr th {\n",
       "        vertical-align: top;\n",
       "    }\n",
       "\n",
       "    .dataframe thead th {\n",
       "        text-align: right;\n",
       "    }\n",
       "</style>\n",
       "<table border=\"1\" class=\"dataframe\">\n",
       "  <thead>\n",
       "    <tr style=\"text-align: right;\">\n",
       "      <th></th>\n",
       "      <th>No.</th>\n",
       "      <th>Company</th>\n",
       "      <th>Sector</th>\n",
       "      <th>Entry Valuation^^ ($B)</th>\n",
       "      <th>Valuation ($B)</th>\n",
       "      <th>Entry</th>\n",
       "      <th>Location</th>\n",
       "      <th>Select Investors</th>\n",
       "    </tr>\n",
       "  </thead>\n",
       "  <tbody>\n",
       "    <tr>\n",
       "      <th>0</th>\n",
       "      <td>False</td>\n",
       "      <td>False</td>\n",
       "      <td>False</td>\n",
       "      <td>False</td>\n",
       "      <td>False</td>\n",
       "      <td>False</td>\n",
       "      <td>False</td>\n",
       "      <td>False</td>\n",
       "    </tr>\n",
       "    <tr>\n",
       "      <th>1</th>\n",
       "      <td>False</td>\n",
       "      <td>False</td>\n",
       "      <td>False</td>\n",
       "      <td>False</td>\n",
       "      <td>False</td>\n",
       "      <td>False</td>\n",
       "      <td>False</td>\n",
       "      <td>False</td>\n",
       "    </tr>\n",
       "    <tr>\n",
       "      <th>2</th>\n",
       "      <td>False</td>\n",
       "      <td>False</td>\n",
       "      <td>False</td>\n",
       "      <td>False</td>\n",
       "      <td>False</td>\n",
       "      <td>False</td>\n",
       "      <td>False</td>\n",
       "      <td>False</td>\n",
       "    </tr>\n",
       "    <tr>\n",
       "      <th>3</th>\n",
       "      <td>False</td>\n",
       "      <td>False</td>\n",
       "      <td>False</td>\n",
       "      <td>False</td>\n",
       "      <td>False</td>\n",
       "      <td>False</td>\n",
       "      <td>False</td>\n",
       "      <td>False</td>\n",
       "    </tr>\n",
       "    <tr>\n",
       "      <th>4</th>\n",
       "      <td>False</td>\n",
       "      <td>False</td>\n",
       "      <td>False</td>\n",
       "      <td>False</td>\n",
       "      <td>False</td>\n",
       "      <td>False</td>\n",
       "      <td>False</td>\n",
       "      <td>False</td>\n",
       "    </tr>\n",
       "    <tr>\n",
       "      <th>...</th>\n",
       "      <td>...</td>\n",
       "      <td>...</td>\n",
       "      <td>...</td>\n",
       "      <td>...</td>\n",
       "      <td>...</td>\n",
       "      <td>...</td>\n",
       "      <td>...</td>\n",
       "      <td>...</td>\n",
       "    </tr>\n",
       "    <tr>\n",
       "      <th>97</th>\n",
       "      <td>False</td>\n",
       "      <td>False</td>\n",
       "      <td>False</td>\n",
       "      <td>False</td>\n",
       "      <td>False</td>\n",
       "      <td>False</td>\n",
       "      <td>False</td>\n",
       "      <td>False</td>\n",
       "    </tr>\n",
       "    <tr>\n",
       "      <th>98</th>\n",
       "      <td>False</td>\n",
       "      <td>False</td>\n",
       "      <td>False</td>\n",
       "      <td>False</td>\n",
       "      <td>False</td>\n",
       "      <td>False</td>\n",
       "      <td>False</td>\n",
       "      <td>False</td>\n",
       "    </tr>\n",
       "    <tr>\n",
       "      <th>99</th>\n",
       "      <td>False</td>\n",
       "      <td>False</td>\n",
       "      <td>False</td>\n",
       "      <td>False</td>\n",
       "      <td>False</td>\n",
       "      <td>False</td>\n",
       "      <td>False</td>\n",
       "      <td>False</td>\n",
       "    </tr>\n",
       "    <tr>\n",
       "      <th>100</th>\n",
       "      <td>False</td>\n",
       "      <td>False</td>\n",
       "      <td>False</td>\n",
       "      <td>False</td>\n",
       "      <td>False</td>\n",
       "      <td>False</td>\n",
       "      <td>False</td>\n",
       "      <td>False</td>\n",
       "    </tr>\n",
       "    <tr>\n",
       "      <th>101</th>\n",
       "      <td>False</td>\n",
       "      <td>False</td>\n",
       "      <td>False</td>\n",
       "      <td>False</td>\n",
       "      <td>False</td>\n",
       "      <td>False</td>\n",
       "      <td>False</td>\n",
       "      <td>False</td>\n",
       "    </tr>\n",
       "  </tbody>\n",
       "</table>\n",
       "<p>102 rows × 8 columns</p>\n",
       "</div>"
      ],
      "text/plain": [
       "       No.  Company  Sector  Entry Valuation^^ ($B)  Valuation ($B)  Entry  \\\n",
       "0    False    False   False                   False           False  False   \n",
       "1    False    False   False                   False           False  False   \n",
       "2    False    False   False                   False           False  False   \n",
       "3    False    False   False                   False           False  False   \n",
       "4    False    False   False                   False           False  False   \n",
       "..     ...      ...     ...                     ...             ...    ...   \n",
       "97   False    False   False                   False           False  False   \n",
       "98   False    False   False                   False           False  False   \n",
       "99   False    False   False                   False           False  False   \n",
       "100  False    False   False                   False           False  False   \n",
       "101  False    False   False                   False           False  False   \n",
       "\n",
       "     Location  Select Investors  \n",
       "0       False             False  \n",
       "1       False             False  \n",
       "2       False             False  \n",
       "3       False             False  \n",
       "4       False             False  \n",
       "..        ...               ...  \n",
       "97      False             False  \n",
       "98      False             False  \n",
       "99      False             False  \n",
       "100     False             False  \n",
       "101     False             False  \n",
       "\n",
       "[102 rows x 8 columns]"
      ]
     },
     "execution_count": 13,
     "metadata": {},
     "output_type": "execute_result"
    }
   ],
   "source": [
    "unicorn_startup.isnull()"
   ]
  },
  {
   "cell_type": "code",
   "execution_count": 14,
   "id": "619caa39",
   "metadata": {
    "scrolled": true
   },
   "outputs": [
    {
     "data": {
      "text/html": [
       "<div>\n",
       "<style scoped>\n",
       "    .dataframe tbody tr th:only-of-type {\n",
       "        vertical-align: middle;\n",
       "    }\n",
       "\n",
       "    .dataframe tbody tr th {\n",
       "        vertical-align: top;\n",
       "    }\n",
       "\n",
       "    .dataframe thead th {\n",
       "        text-align: right;\n",
       "    }\n",
       "</style>\n",
       "<table border=\"1\" class=\"dataframe\">\n",
       "  <thead>\n",
       "    <tr style=\"text-align: right;\">\n",
       "      <th></th>\n",
       "      <th>No.</th>\n",
       "      <th>Company</th>\n",
       "      <th>Sector</th>\n",
       "      <th>Entry Valuation^^ ($B)</th>\n",
       "      <th>Valuation ($B)</th>\n",
       "      <th>Entry</th>\n",
       "      <th>Location</th>\n",
       "      <th>Select Investors</th>\n",
       "    </tr>\n",
       "  </thead>\n",
       "  <tbody>\n",
       "    <tr>\n",
       "      <th>0</th>\n",
       "      <td>False</td>\n",
       "      <td>False</td>\n",
       "      <td>False</td>\n",
       "      <td>False</td>\n",
       "      <td>False</td>\n",
       "      <td>False</td>\n",
       "      <td>False</td>\n",
       "      <td>False</td>\n",
       "    </tr>\n",
       "    <tr>\n",
       "      <th>1</th>\n",
       "      <td>False</td>\n",
       "      <td>False</td>\n",
       "      <td>False</td>\n",
       "      <td>False</td>\n",
       "      <td>False</td>\n",
       "      <td>False</td>\n",
       "      <td>False</td>\n",
       "      <td>False</td>\n",
       "    </tr>\n",
       "    <tr>\n",
       "      <th>2</th>\n",
       "      <td>False</td>\n",
       "      <td>False</td>\n",
       "      <td>False</td>\n",
       "      <td>False</td>\n",
       "      <td>False</td>\n",
       "      <td>False</td>\n",
       "      <td>False</td>\n",
       "      <td>False</td>\n",
       "    </tr>\n",
       "    <tr>\n",
       "      <th>3</th>\n",
       "      <td>False</td>\n",
       "      <td>False</td>\n",
       "      <td>False</td>\n",
       "      <td>False</td>\n",
       "      <td>False</td>\n",
       "      <td>False</td>\n",
       "      <td>False</td>\n",
       "      <td>False</td>\n",
       "    </tr>\n",
       "    <tr>\n",
       "      <th>4</th>\n",
       "      <td>False</td>\n",
       "      <td>False</td>\n",
       "      <td>False</td>\n",
       "      <td>False</td>\n",
       "      <td>False</td>\n",
       "      <td>False</td>\n",
       "      <td>False</td>\n",
       "      <td>False</td>\n",
       "    </tr>\n",
       "    <tr>\n",
       "      <th>5</th>\n",
       "      <td>False</td>\n",
       "      <td>False</td>\n",
       "      <td>False</td>\n",
       "      <td>False</td>\n",
       "      <td>False</td>\n",
       "      <td>False</td>\n",
       "      <td>False</td>\n",
       "      <td>False</td>\n",
       "    </tr>\n",
       "    <tr>\n",
       "      <th>6</th>\n",
       "      <td>False</td>\n",
       "      <td>False</td>\n",
       "      <td>False</td>\n",
       "      <td>False</td>\n",
       "      <td>False</td>\n",
       "      <td>False</td>\n",
       "      <td>False</td>\n",
       "      <td>False</td>\n",
       "    </tr>\n",
       "    <tr>\n",
       "      <th>7</th>\n",
       "      <td>False</td>\n",
       "      <td>False</td>\n",
       "      <td>False</td>\n",
       "      <td>False</td>\n",
       "      <td>False</td>\n",
       "      <td>False</td>\n",
       "      <td>False</td>\n",
       "      <td>False</td>\n",
       "    </tr>\n",
       "    <tr>\n",
       "      <th>8</th>\n",
       "      <td>False</td>\n",
       "      <td>False</td>\n",
       "      <td>False</td>\n",
       "      <td>False</td>\n",
       "      <td>False</td>\n",
       "      <td>False</td>\n",
       "      <td>False</td>\n",
       "      <td>False</td>\n",
       "    </tr>\n",
       "    <tr>\n",
       "      <th>9</th>\n",
       "      <td>False</td>\n",
       "      <td>False</td>\n",
       "      <td>False</td>\n",
       "      <td>False</td>\n",
       "      <td>False</td>\n",
       "      <td>False</td>\n",
       "      <td>False</td>\n",
       "      <td>False</td>\n",
       "    </tr>\n",
       "    <tr>\n",
       "      <th>10</th>\n",
       "      <td>False</td>\n",
       "      <td>False</td>\n",
       "      <td>False</td>\n",
       "      <td>False</td>\n",
       "      <td>False</td>\n",
       "      <td>False</td>\n",
       "      <td>False</td>\n",
       "      <td>False</td>\n",
       "    </tr>\n",
       "    <tr>\n",
       "      <th>11</th>\n",
       "      <td>False</td>\n",
       "      <td>False</td>\n",
       "      <td>False</td>\n",
       "      <td>False</td>\n",
       "      <td>False</td>\n",
       "      <td>False</td>\n",
       "      <td>False</td>\n",
       "      <td>False</td>\n",
       "    </tr>\n",
       "    <tr>\n",
       "      <th>12</th>\n",
       "      <td>False</td>\n",
       "      <td>False</td>\n",
       "      <td>False</td>\n",
       "      <td>False</td>\n",
       "      <td>False</td>\n",
       "      <td>False</td>\n",
       "      <td>False</td>\n",
       "      <td>False</td>\n",
       "    </tr>\n",
       "    <tr>\n",
       "      <th>13</th>\n",
       "      <td>False</td>\n",
       "      <td>False</td>\n",
       "      <td>False</td>\n",
       "      <td>False</td>\n",
       "      <td>False</td>\n",
       "      <td>False</td>\n",
       "      <td>False</td>\n",
       "      <td>False</td>\n",
       "    </tr>\n",
       "    <tr>\n",
       "      <th>14</th>\n",
       "      <td>False</td>\n",
       "      <td>False</td>\n",
       "      <td>False</td>\n",
       "      <td>False</td>\n",
       "      <td>False</td>\n",
       "      <td>False</td>\n",
       "      <td>False</td>\n",
       "      <td>False</td>\n",
       "    </tr>\n",
       "    <tr>\n",
       "      <th>15</th>\n",
       "      <td>False</td>\n",
       "      <td>False</td>\n",
       "      <td>False</td>\n",
       "      <td>False</td>\n",
       "      <td>False</td>\n",
       "      <td>False</td>\n",
       "      <td>False</td>\n",
       "      <td>False</td>\n",
       "    </tr>\n",
       "    <tr>\n",
       "      <th>16</th>\n",
       "      <td>False</td>\n",
       "      <td>False</td>\n",
       "      <td>False</td>\n",
       "      <td>False</td>\n",
       "      <td>False</td>\n",
       "      <td>False</td>\n",
       "      <td>False</td>\n",
       "      <td>False</td>\n",
       "    </tr>\n",
       "    <tr>\n",
       "      <th>17</th>\n",
       "      <td>False</td>\n",
       "      <td>False</td>\n",
       "      <td>False</td>\n",
       "      <td>False</td>\n",
       "      <td>False</td>\n",
       "      <td>False</td>\n",
       "      <td>False</td>\n",
       "      <td>False</td>\n",
       "    </tr>\n",
       "    <tr>\n",
       "      <th>18</th>\n",
       "      <td>False</td>\n",
       "      <td>False</td>\n",
       "      <td>False</td>\n",
       "      <td>False</td>\n",
       "      <td>False</td>\n",
       "      <td>False</td>\n",
       "      <td>False</td>\n",
       "      <td>False</td>\n",
       "    </tr>\n",
       "    <tr>\n",
       "      <th>19</th>\n",
       "      <td>False</td>\n",
       "      <td>False</td>\n",
       "      <td>False</td>\n",
       "      <td>False</td>\n",
       "      <td>False</td>\n",
       "      <td>False</td>\n",
       "      <td>False</td>\n",
       "      <td>False</td>\n",
       "    </tr>\n",
       "  </tbody>\n",
       "</table>\n",
       "</div>"
      ],
      "text/plain": [
       "      No.  Company  Sector  Entry Valuation^^ ($B)  Valuation ($B)  Entry  \\\n",
       "0   False    False   False                   False           False  False   \n",
       "1   False    False   False                   False           False  False   \n",
       "2   False    False   False                   False           False  False   \n",
       "3   False    False   False                   False           False  False   \n",
       "4   False    False   False                   False           False  False   \n",
       "5   False    False   False                   False           False  False   \n",
       "6   False    False   False                   False           False  False   \n",
       "7   False    False   False                   False           False  False   \n",
       "8   False    False   False                   False           False  False   \n",
       "9   False    False   False                   False           False  False   \n",
       "10  False    False   False                   False           False  False   \n",
       "11  False    False   False                   False           False  False   \n",
       "12  False    False   False                   False           False  False   \n",
       "13  False    False   False                   False           False  False   \n",
       "14  False    False   False                   False           False  False   \n",
       "15  False    False   False                   False           False  False   \n",
       "16  False    False   False                   False           False  False   \n",
       "17  False    False   False                   False           False  False   \n",
       "18  False    False   False                   False           False  False   \n",
       "19  False    False   False                   False           False  False   \n",
       "\n",
       "    Location  Select Investors  \n",
       "0      False             False  \n",
       "1      False             False  \n",
       "2      False             False  \n",
       "3      False             False  \n",
       "4      False             False  \n",
       "5      False             False  \n",
       "6      False             False  \n",
       "7      False             False  \n",
       "8      False             False  \n",
       "9      False             False  \n",
       "10     False             False  \n",
       "11     False             False  \n",
       "12     False             False  \n",
       "13     False             False  \n",
       "14     False             False  \n",
       "15     False             False  \n",
       "16     False             False  \n",
       "17     False             False  \n",
       "18     False             False  \n",
       "19     False             False  "
      ]
     },
     "execution_count": 14,
     "metadata": {},
     "output_type": "execute_result"
    }
   ],
   "source": [
    "unicorn_startup.head(20).isnull()"
   ]
  },
  {
   "cell_type": "code",
   "execution_count": 15,
   "id": "1973e8c2",
   "metadata": {
    "scrolled": true,
    "slideshow": {
     "slide_type": "slide"
    }
   },
   "outputs": [
    {
     "data": {
      "text/html": [
       "<div>\n",
       "<style scoped>\n",
       "    .dataframe tbody tr th:only-of-type {\n",
       "        vertical-align: middle;\n",
       "    }\n",
       "\n",
       "    .dataframe tbody tr th {\n",
       "        vertical-align: top;\n",
       "    }\n",
       "\n",
       "    .dataframe thead th {\n",
       "        text-align: right;\n",
       "    }\n",
       "</style>\n",
       "<table border=\"1\" class=\"dataframe\">\n",
       "  <thead>\n",
       "    <tr style=\"text-align: right;\">\n",
       "      <th></th>\n",
       "      <th>No.</th>\n",
       "      <th>Company</th>\n",
       "      <th>Sector</th>\n",
       "      <th>Entry Valuation^^ ($B)</th>\n",
       "      <th>Valuation ($B)</th>\n",
       "      <th>Entry</th>\n",
       "      <th>Location</th>\n",
       "      <th>Select Investors</th>\n",
       "    </tr>\n",
       "  </thead>\n",
       "  <tbody>\n",
       "    <tr>\n",
       "      <th>0</th>\n",
       "      <td>1</td>\n",
       "      <td>InMobi</td>\n",
       "      <td>Adtech - Mobile Ads</td>\n",
       "      <td>1.0</td>\n",
       "      <td>1.0</td>\n",
       "      <td>Sep/2011</td>\n",
       "      <td>Bangalore/Singapore</td>\n",
       "      <td>KPCB, Sherpalo Ventures, SoftBank</td>\n",
       "    </tr>\n",
       "    <tr>\n",
       "      <th>1</th>\n",
       "      <td>2</td>\n",
       "      <td>Flipkart^</td>\n",
       "      <td>E-Commerce</td>\n",
       "      <td>1.0</td>\n",
       "      <td>37.6</td>\n",
       "      <td>Feb/2012</td>\n",
       "      <td>Bangalore/Singapore</td>\n",
       "      <td>Accel, Tiger Global, Naspers, SoftBank, Tencent</td>\n",
       "    </tr>\n",
       "    <tr>\n",
       "      <th>2</th>\n",
       "      <td>3</td>\n",
       "      <td>Mu Sigma</td>\n",
       "      <td>SaaS - Analytics</td>\n",
       "      <td>1.0</td>\n",
       "      <td>1.5</td>\n",
       "      <td>Feb/2013</td>\n",
       "      <td>Bangalore/Chicago</td>\n",
       "      <td>Accel, Sequoia Capital, General Atlantic</td>\n",
       "    </tr>\n",
       "    <tr>\n",
       "      <th>3</th>\n",
       "      <td>4</td>\n",
       "      <td>Snapdeal*</td>\n",
       "      <td>E-Commerce</td>\n",
       "      <td>1.8</td>\n",
       "      <td>2.4</td>\n",
       "      <td>Oct/2014</td>\n",
       "      <td>Delhi</td>\n",
       "      <td>Kalaari Capital, Nexus Ventures, Bessemer, Sof...</td>\n",
       "    </tr>\n",
       "    <tr>\n",
       "      <th>4</th>\n",
       "      <td>5</td>\n",
       "      <td>PayTM^</td>\n",
       "      <td>Fintech - Payments &amp; Wallet</td>\n",
       "      <td>1.7</td>\n",
       "      <td>16.0</td>\n",
       "      <td>Feb/2015</td>\n",
       "      <td>Noida</td>\n",
       "      <td>Saama Capital, Elevation Capital, Alibaba, Ber...</td>\n",
       "    </tr>\n",
       "    <tr>\n",
       "      <th>5</th>\n",
       "      <td>6</td>\n",
       "      <td>Ola Cabs</td>\n",
       "      <td>Mobility - Ride Aggregator</td>\n",
       "      <td>1.6</td>\n",
       "      <td>7.3</td>\n",
       "      <td>Mar/2015</td>\n",
       "      <td>Bangalore</td>\n",
       "      <td>Tiger Global, Matrix Partners, Steadview, Soft...</td>\n",
       "    </tr>\n",
       "    <tr>\n",
       "      <th>6</th>\n",
       "      <td>7</td>\n",
       "      <td>Quikr*</td>\n",
       "      <td>Marketplace - Classifieds</td>\n",
       "      <td>1.0</td>\n",
       "      <td>1.5</td>\n",
       "      <td>Apr/2015</td>\n",
       "      <td>Bangalore</td>\n",
       "      <td>Matrix Partners, Omidyar Network, Norwest, Kin...</td>\n",
       "    </tr>\n",
       "    <tr>\n",
       "      <th>7</th>\n",
       "      <td>8</td>\n",
       "      <td>Zomato^</td>\n",
       "      <td>Foodtech</td>\n",
       "      <td>1.0</td>\n",
       "      <td>5.4</td>\n",
       "      <td>Sep/2015</td>\n",
       "      <td>Gurgaon</td>\n",
       "      <td>Info Edge, Sequoia Capital, Vy Capital, Alibab...</td>\n",
       "    </tr>\n",
       "    <tr>\n",
       "      <th>8</th>\n",
       "      <td>9</td>\n",
       "      <td>ShopClues*</td>\n",
       "      <td>E-Commerce</td>\n",
       "      <td>1.1</td>\n",
       "      <td>1.1</td>\n",
       "      <td>Jan/2016</td>\n",
       "      <td>Gurgaon</td>\n",
       "      <td>Nexus Ventures, Helion Ventures, Beenos, Tiger...</td>\n",
       "    </tr>\n",
       "    <tr>\n",
       "      <th>9</th>\n",
       "      <td>10</td>\n",
       "      <td>Hike*</td>\n",
       "      <td>Social Media - Messaging</td>\n",
       "      <td>1.4</td>\n",
       "      <td>1.4</td>\n",
       "      <td>Aug/2016</td>\n",
       "      <td>Delhi</td>\n",
       "      <td>Tiger Global, Tencent, Foxconn</td>\n",
       "    </tr>\n",
       "    <tr>\n",
       "      <th>10</th>\n",
       "      <td>11</td>\n",
       "      <td>BYJUS</td>\n",
       "      <td>Edtech</td>\n",
       "      <td>1.0</td>\n",
       "      <td>22.0</td>\n",
       "      <td>Jan/2018</td>\n",
       "      <td>Bangalore</td>\n",
       "      <td>Aarin Capital, Sequoia Capital, Lightspeed Ven...</td>\n",
       "    </tr>\n",
       "    <tr>\n",
       "      <th>11</th>\n",
       "      <td>12</td>\n",
       "      <td>PayTM Mall*</td>\n",
       "      <td>E-Commerce</td>\n",
       "      <td>1.9</td>\n",
       "      <td>3.0</td>\n",
       "      <td>Apr/2018</td>\n",
       "      <td>Noida</td>\n",
       "      <td>Elevation Capital, Alibaba, SoftBank, eBay</td>\n",
       "    </tr>\n",
       "    <tr>\n",
       "      <th>12</th>\n",
       "      <td>13</td>\n",
       "      <td>Swiggy</td>\n",
       "      <td>Foodtech</td>\n",
       "      <td>1.4</td>\n",
       "      <td>10.7</td>\n",
       "      <td>Jun/2018</td>\n",
       "      <td>Bangalore</td>\n",
       "      <td>Accel, Elevation Capital, Norwest, Naspers, Te...</td>\n",
       "    </tr>\n",
       "    <tr>\n",
       "      <th>13</th>\n",
       "      <td>14</td>\n",
       "      <td>PolicyBazaar^</td>\n",
       "      <td>Fintech - Insurance</td>\n",
       "      <td>1.0</td>\n",
       "      <td>2.4</td>\n",
       "      <td>Jun/2018</td>\n",
       "      <td>Gurgaon</td>\n",
       "      <td>Info Edge, Intel, Inventus Capital, Tiger Glob...</td>\n",
       "    </tr>\n",
       "    <tr>\n",
       "      <th>14</th>\n",
       "      <td>15</td>\n",
       "      <td>Freshworks^</td>\n",
       "      <td>SaaS - CRM</td>\n",
       "      <td>1.5</td>\n",
       "      <td>3.5</td>\n",
       "      <td>Jul/2018</td>\n",
       "      <td>Chennai/San Mateo</td>\n",
       "      <td>Accel, Tiger Global, Google, Sequoia Capital, ...</td>\n",
       "    </tr>\n",
       "    <tr>\n",
       "      <th>15</th>\n",
       "      <td>16</td>\n",
       "      <td>OYO Rooms</td>\n",
       "      <td>Proptech - Hotel Booking</td>\n",
       "      <td>4.9</td>\n",
       "      <td>9.6</td>\n",
       "      <td>Sep/2018</td>\n",
       "      <td>Gurgaon</td>\n",
       "      <td>Lightspeed Ventures, Sequoia Capital, SoftBank</td>\n",
       "    </tr>\n",
       "    <tr>\n",
       "      <th>16</th>\n",
       "      <td>17</td>\n",
       "      <td>Udaan</td>\n",
       "      <td>B2B E-Commerce</td>\n",
       "      <td>1.0</td>\n",
       "      <td>3.1</td>\n",
       "      <td>Sep/2018</td>\n",
       "      <td>Bangalore</td>\n",
       "      <td>Lightspeed Ventures, DST Global, Tencent</td>\n",
       "    </tr>\n",
       "    <tr>\n",
       "      <th>17</th>\n",
       "      <td>18</td>\n",
       "      <td>BillDesk</td>\n",
       "      <td>Fintech - B2B Payments</td>\n",
       "      <td>1.6</td>\n",
       "      <td>1.6</td>\n",
       "      <td>Nov/2018</td>\n",
       "      <td>Mumbai</td>\n",
       "      <td>SIDBI VC, TA Associates, General Atlantic</td>\n",
       "    </tr>\n",
       "    <tr>\n",
       "      <th>18</th>\n",
       "      <td>19</td>\n",
       "      <td>Delhivery^</td>\n",
       "      <td>Logistics Services</td>\n",
       "      <td>1.6</td>\n",
       "      <td>3.0</td>\n",
       "      <td>Jan/2019</td>\n",
       "      <td>Gurgaon</td>\n",
       "      <td>Nexus Ventures, Multiples PE, Tiger Global, Ca...</td>\n",
       "    </tr>\n",
       "    <tr>\n",
       "      <th>19</th>\n",
       "      <td>20</td>\n",
       "      <td>Rivigo</td>\n",
       "      <td>Logistics Services - Trucks</td>\n",
       "      <td>1.1</td>\n",
       "      <td>1.1</td>\n",
       "      <td>Feb/2019</td>\n",
       "      <td>Gurgaon</td>\n",
       "      <td>Elevation Capital, Warburg Pincus</td>\n",
       "    </tr>\n",
       "  </tbody>\n",
       "</table>\n",
       "</div>"
      ],
      "text/plain": [
       "    No.        Company                       Sector  Entry Valuation^^ ($B)  \\\n",
       "0     1         InMobi          Adtech - Mobile Ads                     1.0   \n",
       "1     2      Flipkart^                   E-Commerce                     1.0   \n",
       "2     3       Mu Sigma             SaaS - Analytics                     1.0   \n",
       "3     4      Snapdeal*                   E-Commerce                     1.8   \n",
       "4     5         PayTM^  Fintech - Payments & Wallet                     1.7   \n",
       "5     6       Ola Cabs   Mobility - Ride Aggregator                     1.6   \n",
       "6     7         Quikr*    Marketplace - Classifieds                     1.0   \n",
       "7     8        Zomato^                     Foodtech                     1.0   \n",
       "8     9     ShopClues*                   E-Commerce                     1.1   \n",
       "9    10          Hike*     Social Media - Messaging                     1.4   \n",
       "10   11          BYJUS                       Edtech                     1.0   \n",
       "11   12    PayTM Mall*                   E-Commerce                     1.9   \n",
       "12   13         Swiggy                     Foodtech                     1.4   \n",
       "13   14  PolicyBazaar^          Fintech - Insurance                     1.0   \n",
       "14   15    Freshworks^                   SaaS - CRM                     1.5   \n",
       "15   16      OYO Rooms     Proptech - Hotel Booking                     4.9   \n",
       "16   17          Udaan               B2B E-Commerce                     1.0   \n",
       "17   18       BillDesk       Fintech - B2B Payments                     1.6   \n",
       "18   19     Delhivery^           Logistics Services                     1.6   \n",
       "19   20         Rivigo  Logistics Services - Trucks                     1.1   \n",
       "\n",
       "    Valuation ($B)     Entry             Location  \\\n",
       "0              1.0  Sep/2011  Bangalore/Singapore   \n",
       "1             37.6  Feb/2012  Bangalore/Singapore   \n",
       "2              1.5  Feb/2013    Bangalore/Chicago   \n",
       "3              2.4  Oct/2014                Delhi   \n",
       "4             16.0  Feb/2015                Noida   \n",
       "5              7.3  Mar/2015            Bangalore   \n",
       "6              1.5  Apr/2015            Bangalore   \n",
       "7              5.4  Sep/2015              Gurgaon   \n",
       "8              1.1  Jan/2016              Gurgaon   \n",
       "9              1.4  Aug/2016                Delhi   \n",
       "10            22.0  Jan/2018            Bangalore   \n",
       "11             3.0  Apr/2018                Noida   \n",
       "12            10.7  Jun/2018            Bangalore   \n",
       "13             2.4  Jun/2018              Gurgaon   \n",
       "14             3.5  Jul/2018    Chennai/San Mateo   \n",
       "15             9.6  Sep/2018              Gurgaon   \n",
       "16             3.1  Sep/2018            Bangalore   \n",
       "17             1.6  Nov/2018               Mumbai   \n",
       "18             3.0  Jan/2019              Gurgaon   \n",
       "19             1.1  Feb/2019              Gurgaon   \n",
       "\n",
       "                                     Select Investors  \n",
       "0                   KPCB, Sherpalo Ventures, SoftBank  \n",
       "1     Accel, Tiger Global, Naspers, SoftBank, Tencent  \n",
       "2            Accel, Sequoia Capital, General Atlantic  \n",
       "3   Kalaari Capital, Nexus Ventures, Bessemer, Sof...  \n",
       "4   Saama Capital, Elevation Capital, Alibaba, Ber...  \n",
       "5   Tiger Global, Matrix Partners, Steadview, Soft...  \n",
       "6   Matrix Partners, Omidyar Network, Norwest, Kin...  \n",
       "7   Info Edge, Sequoia Capital, Vy Capital, Alibab...  \n",
       "8   Nexus Ventures, Helion Ventures, Beenos, Tiger...  \n",
       "9                      Tiger Global, Tencent, Foxconn  \n",
       "10  Aarin Capital, Sequoia Capital, Lightspeed Ven...  \n",
       "11         Elevation Capital, Alibaba, SoftBank, eBay  \n",
       "12  Accel, Elevation Capital, Norwest, Naspers, Te...  \n",
       "13  Info Edge, Intel, Inventus Capital, Tiger Glob...  \n",
       "14  Accel, Tiger Global, Google, Sequoia Capital, ...  \n",
       "15     Lightspeed Ventures, Sequoia Capital, SoftBank  \n",
       "16           Lightspeed Ventures, DST Global, Tencent  \n",
       "17          SIDBI VC, TA Associates, General Atlantic  \n",
       "18  Nexus Ventures, Multiples PE, Tiger Global, Ca...  \n",
       "19                  Elevation Capital, Warburg Pincus  "
      ]
     },
     "execution_count": 15,
     "metadata": {},
     "output_type": "execute_result"
    }
   ],
   "source": [
    "unicorn_startup.head(20)"
   ]
  },
  {
   "cell_type": "code",
   "execution_count": 16,
   "id": "1268854c",
   "metadata": {
    "slideshow": {
     "slide_type": "slide"
    }
   },
   "outputs": [],
   "source": [
    "unicorn_startup=pd.read_csv(\"Indian Unicorn startups 2023 updated.csv\",index_col=0)"
   ]
  },
  {
   "cell_type": "code",
   "execution_count": 17,
   "id": "deacd801",
   "metadata": {
    "scrolled": false,
    "slideshow": {
     "slide_type": "slide"
    }
   },
   "outputs": [
    {
     "data": {
      "text/plain": [
       "Index(['Company', 'Sector', 'Entry Valuation^^ ($B)', 'Valuation ($B)',\n",
       "       'Entry', 'Location', 'Select Investors'],\n",
       "      dtype='object')"
      ]
     },
     "execution_count": 17,
     "metadata": {},
     "output_type": "execute_result"
    }
   ],
   "source": [
    "unicorn_startup.columns"
   ]
  },
  {
   "cell_type": "code",
   "execution_count": 18,
   "id": "cb9e780f",
   "metadata": {
    "scrolled": false,
    "slideshow": {
     "slide_type": "slide"
    }
   },
   "outputs": [
    {
     "data": {
      "text/html": [
       "<div>\n",
       "<style scoped>\n",
       "    .dataframe tbody tr th:only-of-type {\n",
       "        vertical-align: middle;\n",
       "    }\n",
       "\n",
       "    .dataframe tbody tr th {\n",
       "        vertical-align: top;\n",
       "    }\n",
       "\n",
       "    .dataframe thead th {\n",
       "        text-align: right;\n",
       "    }\n",
       "</style>\n",
       "<table border=\"1\" class=\"dataframe\">\n",
       "  <thead>\n",
       "    <tr style=\"text-align: right;\">\n",
       "      <th></th>\n",
       "      <th>Company</th>\n",
       "    </tr>\n",
       "    <tr>\n",
       "      <th>No.</th>\n",
       "      <th></th>\n",
       "    </tr>\n",
       "  </thead>\n",
       "  <tbody>\n",
       "    <tr>\n",
       "      <th>1</th>\n",
       "      <td>InMobi</td>\n",
       "    </tr>\n",
       "    <tr>\n",
       "      <th>2</th>\n",
       "      <td>Flipkart^</td>\n",
       "    </tr>\n",
       "    <tr>\n",
       "      <th>3</th>\n",
       "      <td>Mu Sigma</td>\n",
       "    </tr>\n",
       "    <tr>\n",
       "      <th>4</th>\n",
       "      <td>Snapdeal*</td>\n",
       "    </tr>\n",
       "    <tr>\n",
       "      <th>5</th>\n",
       "      <td>PayTM^</td>\n",
       "    </tr>\n",
       "    <tr>\n",
       "      <th>...</th>\n",
       "      <td>...</td>\n",
       "    </tr>\n",
       "    <tr>\n",
       "      <th>98</th>\n",
       "      <td>Purplle</td>\n",
       "    </tr>\n",
       "    <tr>\n",
       "      <th>99</th>\n",
       "      <td>Leadsquared</td>\n",
       "    </tr>\n",
       "    <tr>\n",
       "      <th>100</th>\n",
       "      <td>OneCard</td>\n",
       "    </tr>\n",
       "    <tr>\n",
       "      <th>101</th>\n",
       "      <td>Shiprocket</td>\n",
       "    </tr>\n",
       "    <tr>\n",
       "      <th>102</th>\n",
       "      <td>Molbio Diagnostics</td>\n",
       "    </tr>\n",
       "  </tbody>\n",
       "</table>\n",
       "<p>102 rows × 1 columns</p>\n",
       "</div>"
      ],
      "text/plain": [
       "                Company\n",
       "No.                    \n",
       "1                InMobi\n",
       "2             Flipkart^\n",
       "3              Mu Sigma\n",
       "4             Snapdeal*\n",
       "5                PayTM^\n",
       "..                  ...\n",
       "98              Purplle\n",
       "99          Leadsquared\n",
       "100             OneCard\n",
       "101          Shiprocket\n",
       "102  Molbio Diagnostics\n",
       "\n",
       "[102 rows x 1 columns]"
      ]
     },
     "execution_count": 18,
     "metadata": {},
     "output_type": "execute_result"
    }
   ],
   "source": [
    "unicorn_startup[[\"Company\"]]"
   ]
  },
  {
   "cell_type": "markdown",
   "id": "9dd40af3",
   "metadata": {},
   "source": [
    "Entry Valuation Of Unicorn Startup"
   ]
  },
  {
   "cell_type": "code",
   "execution_count": 19,
   "id": "cfd6a5f7",
   "metadata": {},
   "outputs": [],
   "source": [
    "unicorn_startup_value=unicorn_startup[[\"Company\",\"Entry Valuation^^ ($B)\"]]"
   ]
  },
  {
   "cell_type": "code",
   "execution_count": 20,
   "id": "d9b98c67",
   "metadata": {},
   "outputs": [
    {
     "data": {
      "text/html": [
       "<div>\n",
       "<style scoped>\n",
       "    .dataframe tbody tr th:only-of-type {\n",
       "        vertical-align: middle;\n",
       "    }\n",
       "\n",
       "    .dataframe tbody tr th {\n",
       "        vertical-align: top;\n",
       "    }\n",
       "\n",
       "    .dataframe thead th {\n",
       "        text-align: right;\n",
       "    }\n",
       "</style>\n",
       "<table border=\"1\" class=\"dataframe\">\n",
       "  <thead>\n",
       "    <tr style=\"text-align: right;\">\n",
       "      <th></th>\n",
       "      <th>Company</th>\n",
       "      <th>Entry Valuation^^ ($B)</th>\n",
       "    </tr>\n",
       "    <tr>\n",
       "      <th>No.</th>\n",
       "      <th></th>\n",
       "      <th></th>\n",
       "    </tr>\n",
       "  </thead>\n",
       "  <tbody>\n",
       "    <tr>\n",
       "      <th>1</th>\n",
       "      <td>InMobi</td>\n",
       "      <td>1.00</td>\n",
       "    </tr>\n",
       "    <tr>\n",
       "      <th>2</th>\n",
       "      <td>Flipkart^</td>\n",
       "      <td>1.00</td>\n",
       "    </tr>\n",
       "    <tr>\n",
       "      <th>3</th>\n",
       "      <td>Mu Sigma</td>\n",
       "      <td>1.00</td>\n",
       "    </tr>\n",
       "    <tr>\n",
       "      <th>4</th>\n",
       "      <td>Snapdeal*</td>\n",
       "      <td>1.80</td>\n",
       "    </tr>\n",
       "    <tr>\n",
       "      <th>5</th>\n",
       "      <td>PayTM^</td>\n",
       "      <td>1.70</td>\n",
       "    </tr>\n",
       "    <tr>\n",
       "      <th>...</th>\n",
       "      <td>...</td>\n",
       "      <td>...</td>\n",
       "    </tr>\n",
       "    <tr>\n",
       "      <th>98</th>\n",
       "      <td>Purplle</td>\n",
       "      <td>1.10</td>\n",
       "    </tr>\n",
       "    <tr>\n",
       "      <th>99</th>\n",
       "      <td>Leadsquared</td>\n",
       "      <td>1.00</td>\n",
       "    </tr>\n",
       "    <tr>\n",
       "      <th>100</th>\n",
       "      <td>OneCard</td>\n",
       "      <td>1.30</td>\n",
       "    </tr>\n",
       "    <tr>\n",
       "      <th>101</th>\n",
       "      <td>Shiprocket</td>\n",
       "      <td>1.23</td>\n",
       "    </tr>\n",
       "    <tr>\n",
       "      <th>102</th>\n",
       "      <td>Molbio Diagnostics</td>\n",
       "      <td>1.53</td>\n",
       "    </tr>\n",
       "  </tbody>\n",
       "</table>\n",
       "<p>102 rows × 2 columns</p>\n",
       "</div>"
      ],
      "text/plain": [
       "                Company  Entry Valuation^^ ($B)\n",
       "No.                                            \n",
       "1                InMobi                    1.00\n",
       "2             Flipkart^                    1.00\n",
       "3              Mu Sigma                    1.00\n",
       "4             Snapdeal*                    1.80\n",
       "5                PayTM^                    1.70\n",
       "..                  ...                     ...\n",
       "98              Purplle                    1.10\n",
       "99          Leadsquared                    1.00\n",
       "100             OneCard                    1.30\n",
       "101          Shiprocket                    1.23\n",
       "102  Molbio Diagnostics                    1.53\n",
       "\n",
       "[102 rows x 2 columns]"
      ]
     },
     "execution_count": 20,
     "metadata": {},
     "output_type": "execute_result"
    }
   ],
   "source": [
    "unicorn_startup_value"
   ]
  },
  {
   "cell_type": "code",
   "execution_count": 21,
   "id": "3384947d",
   "metadata": {},
   "outputs": [
    {
     "data": {
      "text/plain": [
       "Entry Valuation^^ ($B)    157.85\n",
       "dtype: float64"
      ]
     },
     "execution_count": 21,
     "metadata": {},
     "output_type": "execute_result"
    }
   ],
   "source": [
    "unicorn_startup[[\"Entry Valuation^^ ($B)\"]].sum()"
   ]
  },
  {
   "cell_type": "code",
   "execution_count": 22,
   "id": "81fbb654",
   "metadata": {},
   "outputs": [
    {
     "data": {
      "text/plain": [
       "<AxesSubplot:xlabel='No.'>"
      ]
     },
     "execution_count": 22,
     "metadata": {},
     "output_type": "execute_result"
    }
   ],
   "source": [
    "unicorn_startup_value.head(3).plot.bar()"
   ]
  },
  {
   "cell_type": "code",
   "execution_count": 23,
   "id": "a19e3c93",
   "metadata": {},
   "outputs": [],
   "source": [
    "import matplotlib.pyplot as plt\n",
    "%matplotlib inline"
   ]
  },
  {
   "cell_type": "code",
   "execution_count": 24,
   "id": "3913f84f",
   "metadata": {
    "scrolled": false
   },
   "outputs": [
    {
     "data": {
      "text/plain": [
       "Sector                                \n",
       "Edtech                                    5\n",
       "Marketplace - Used Cars                   4\n",
       "E-Commerce                                4\n",
       "Logistics Services                        4\n",
       "Gaming                                    3\n",
       "                                         ..\n",
       "Fintech - PoS Payment Solutions           1\n",
       "Healthtech - Diagnostics                  1\n",
       "Healthtech - Elective Surgery Services    1\n",
       "Healthtech - Wellness                     1\n",
       "Web3 Infrastructure - Dapps               1\n",
       "Length: 75, dtype: int64"
      ]
     },
     "execution_count": 24,
     "metadata": {},
     "output_type": "execute_result"
    }
   ],
   "source": [
    "unicorn_top_sector=unicorn_startup[[\"Sector\"]].value_counts()\n",
    "unicorn_top_sector"
   ]
  },
  {
   "cell_type": "code",
   "execution_count": 25,
   "id": "d27a91b5",
   "metadata": {
    "scrolled": false,
    "slideshow": {
     "slide_type": "slide"
    }
   },
   "outputs": [
    {
     "data": {
      "text/plain": [
       "<AxesSubplot:xlabel='Sector'>"
      ]
     },
     "execution_count": 25,
     "metadata": {},
     "output_type": "execute_result"
    },
    {
     "data": {
      "image/png": "[encoded data removed]",
      "text/plain": [
       "<Figure size 640x480 with 1 Axes>"
      ]
     },
     "metadata": {},
     "output_type": "display_data"
    }
   ],
   "source": [
    "unicorn_top_sector.head(10).plot.bar()"
   ]
  },
  {
   "cell_type": "code",
   "execution_count": 26,
   "id": "d2fd6033",
   "metadata": {
    "scrolled": false,
    "slideshow": {
     "slide_type": "slide"
    }
   },
   "outputs": [],
   "source": [
    "startup_groupby_sector=unicorn_startup.groupby(['Sector']).sum()"
   ]
  },
  {
   "cell_type": "code",
   "execution_count": 27,
   "id": "27357748",
   "metadata": {
    "slideshow": {
     "slide_type": "slide"
    }
   },
   "outputs": [
    {
     "data": {
      "text/plain": [
       "<AxesSubplot:xlabel='Sector'>"
      ]
     },
     "execution_count": 27,
     "metadata": {},
     "output_type": "execute_result"
    },
    {
     "data": {
      "image/png": "[encoded data removed]",
      "text/plain": [
       "<Figure size 640x480 with 1 Axes>"
      ]
     },
     "metadata": {},
     "output_type": "display_data"
    }
   ],
   "source": [
    "startup_groupby_sector.head(10).plot.bar()"
   ]
  },
  {
   "cell_type": "code",
   "execution_count": 28,
   "id": "c9a83280",
   "metadata": {
    "slideshow": {
     "slide_type": "slide"
    }
   },
   "outputs": [
    {
     "data": {
      "text/plain": [
       "Valuation ($B)    346.598\n",
       "dtype: float64"
      ]
     },
     "execution_count": 28,
     "metadata": {},
     "output_type": "execute_result"
    }
   ],
   "source": [
    "unicorn_startup[[\"Valuation ($B)\"]].sum()"
   ]
  },
  {
   "cell_type": "code",
   "execution_count": 29,
   "id": "695e73f1",
   "metadata": {},
   "outputs": [
    {
     "data": {
      "text/plain": [
       "<bound method DataFrame.value_counts of                 Location\n",
       "No.                     \n",
       "1    Bangalore/Singapore\n",
       "2    Bangalore/Singapore\n",
       "3      Bangalore/Chicago\n",
       "4                  Delhi\n",
       "5                  Noida\n",
       "..                   ...\n",
       "98                Mumbai\n",
       "99             Bangalore\n",
       "100                 Pune\n",
       "101                Delhi\n",
       "102                  Goa\n",
       "\n",
       "[102 rows x 1 columns]>"
      ]
     },
     "execution_count": 29,
     "metadata": {},
     "output_type": "execute_result"
    }
   ],
   "source": [
    "unicorn_startup[['Location']].value_counts"
   ]
  },
  {
   "cell_type": "code",
   "execution_count": 30,
   "id": "9930239b",
   "metadata": {},
   "outputs": [],
   "source": [
    "Location_counts=unicorn_startup[['Location']].value_counts()"
   ]
  },
  {
   "cell_type": "code",
   "execution_count": 31,
   "id": "1917f8bf",
   "metadata": {
    "slideshow": {
     "slide_type": "slide"
    }
   },
   "outputs": [
    {
     "data": {
      "text/plain": [
       "<AxesSubplot:xlabel='Location'>"
      ]
     },
     "execution_count": 31,
     "metadata": {},
     "output_type": "execute_result"
    },
    {
     "data": {
      "image/png": "[encoded data removed]",
      "text/plain": [
       "<Figure size 640x480 with 1 Axes>"
      ]
     },
     "metadata": {},
     "output_type": "display_data"
    }
   ],
   "source": [
    "Location_counts.head(16).plot.bar(color=\"r\")"
   ]
  },
  {
   "cell_type": "code",
   "execution_count": 32,
   "id": "69f620e6",
   "metadata": {
    "scrolled": false
   },
   "outputs": [],
   "source": [
    "Bangalore_startup_list=unicorn_startup[(unicorn_startup.Location=='Bangalore')]"
   ]
  },
  {
   "cell_type": "code",
   "execution_count": 33,
   "id": "2c9ef9bc",
   "metadata": {},
   "outputs": [
    {
     "data": {
      "text/plain": [
       "Sector                                            \n",
       "Edtech                                                3\n",
       "Fintech - General Insurance                           2\n",
       "Aggregator - Consumer Brands                          1\n",
       "Healthtech - Wellness                                 1\n",
       "Social Media                                          1\n",
       "SaaS - Programming Tools                              1\n",
       "SaaS - Local Ads Targeting                            1\n",
       "SaaS - CRM                                            1\n",
       "Proptech - Classifieds                                1\n",
       "Mobility - Ride Aggregator                            1\n",
       "Mobility - Electric                                   1\n",
       "Marketplace - Manufacturing Services                  1\n",
       "Marketplace - Jobs                                    1\n",
       "Marketplace - Classifieds                             1\n",
       "Logistics Services                                    1\n",
       "Interior Design - Modular Kitchens & Home Products    1\n",
       "Foodtech                                              1\n",
       "Gaming                                                1\n",
       "B2B E-Commerce                                        1\n",
       "Fintech - Payments & Credit Card Rewards              1\n",
       "Fintech - Payments                                    1\n",
       "Fintech - Payment Gateway                             1\n",
       "Fintech - Neo Bank                                    1\n",
       "Fintech - Credit Cards                                1\n",
       "Fintech - Brokerage & Mutual Funds                    1\n",
       "E-Commerce - Social Commerce                          1\n",
       "E-Commerce - Groceries                                1\n",
       "D2C - Meat                                            1\n",
       "Cryptocurrency Exchange                               1\n",
       "Content - News                                        1\n",
       "Web3 Infrastructure - Dapps                           1\n",
       "dtype: int64"
      ]
     },
     "execution_count": 33,
     "metadata": {},
     "output_type": "execute_result"
    }
   ],
   "source": [
    "Bangalore_startup_list[['Sector']].value_counts()"
   ]
  },
  {
   "cell_type": "code",
   "execution_count": 34,
   "id": "b52b42b7",
   "metadata": {
    "scrolled": false
   },
   "outputs": [
    {
     "data": {
      "text/plain": [
       "<AxesSubplot:xlabel='Sector'>"
      ]
     },
     "execution_count": 34,
     "metadata": {},
     "output_type": "execute_result"
    },
    {
     "data": {
      "image/png": "[encoded data removed]",
      "text/plain": [
       "<Figure size 640x480 with 1 Axes>"
      ]
     },
     "metadata": {},
     "output_type": "display_data"
    }
   ],
   "source": [
    "Bangalore_startup_list.head(15).plot.bar(1)"
   ]
  },
  {
   "cell_type": "code",
   "execution_count": 35,
   "id": "2323221b",
   "metadata": {
    "scrolled": true
   },
   "outputs": [
    {
     "data": {
      "text/html": [
       "<div>\n",
       "<style scoped>\n",
       "    .dataframe tbody tr th:only-of-type {\n",
       "        vertical-align: middle;\n",
       "    }\n",
       "\n",
       "    .dataframe tbody tr th {\n",
       "        vertical-align: top;\n",
       "    }\n",
       "\n",
       "    .dataframe thead th {\n",
       "        text-align: right;\n",
       "    }\n",
       "</style>\n",
       "<table border=\"1\" class=\"dataframe\">\n",
       "  <thead>\n",
       "    <tr style=\"text-align: right;\">\n",
       "      <th></th>\n",
       "      <th>Company</th>\n",
       "      <th>Sector</th>\n",
       "      <th>Entry Valuation^^ ($B)</th>\n",
       "      <th>Valuation ($B)</th>\n",
       "      <th>Entry</th>\n",
       "      <th>Location</th>\n",
       "      <th>Select Investors</th>\n",
       "    </tr>\n",
       "    <tr>\n",
       "      <th>No.</th>\n",
       "      <th></th>\n",
       "      <th></th>\n",
       "      <th></th>\n",
       "      <th></th>\n",
       "      <th></th>\n",
       "      <th></th>\n",
       "      <th></th>\n",
       "    </tr>\n",
       "  </thead>\n",
       "  <tbody>\n",
       "    <tr>\n",
       "      <th>6</th>\n",
       "      <td>Ola Cabs</td>\n",
       "      <td>Mobility - Ride Aggregator</td>\n",
       "      <td>1.6</td>\n",
       "      <td>7.3</td>\n",
       "      <td>Mar/2015</td>\n",
       "      <td>Bangalore</td>\n",
       "      <td>Tiger Global, Matrix Partners, Steadview, Soft...</td>\n",
       "    </tr>\n",
       "    <tr>\n",
       "      <th>7</th>\n",
       "      <td>Quikr*</td>\n",
       "      <td>Marketplace - Classifieds</td>\n",
       "      <td>1.0</td>\n",
       "      <td>1.5</td>\n",
       "      <td>Apr/2015</td>\n",
       "      <td>Bangalore</td>\n",
       "      <td>Matrix Partners, Omidyar Network, Norwest, Kin...</td>\n",
       "    </tr>\n",
       "    <tr>\n",
       "      <th>11</th>\n",
       "      <td>BYJUS</td>\n",
       "      <td>Edtech</td>\n",
       "      <td>1.0</td>\n",
       "      <td>22.0</td>\n",
       "      <td>Jan/2018</td>\n",
       "      <td>Bangalore</td>\n",
       "      <td>Aarin Capital, Sequoia Capital, Lightspeed Ven...</td>\n",
       "    </tr>\n",
       "    <tr>\n",
       "      <th>13</th>\n",
       "      <td>Swiggy</td>\n",
       "      <td>Foodtech</td>\n",
       "      <td>1.4</td>\n",
       "      <td>10.7</td>\n",
       "      <td>Jun/2018</td>\n",
       "      <td>Bangalore</td>\n",
       "      <td>Accel, Elevation Capital, Norwest, Naspers, Te...</td>\n",
       "    </tr>\n",
       "    <tr>\n",
       "      <th>17</th>\n",
       "      <td>Udaan</td>\n",
       "      <td>B2B E-Commerce</td>\n",
       "      <td>1.0</td>\n",
       "      <td>3.1</td>\n",
       "      <td>Sep/2018</td>\n",
       "      <td>Bangalore</td>\n",
       "      <td>Lightspeed Ventures, DST Global, Tencent</td>\n",
       "    </tr>\n",
       "    <tr>\n",
       "      <th>21</th>\n",
       "      <td>BigBasket</td>\n",
       "      <td>E-Commerce - Groceries</td>\n",
       "      <td>1.1</td>\n",
       "      <td>2.0</td>\n",
       "      <td>Mar/2019</td>\n",
       "      <td>Bangalore</td>\n",
       "      <td>Ascent Capital, Helion Ventures, Bessemer, IFC...</td>\n",
       "    </tr>\n",
       "    <tr>\n",
       "      <th>26</th>\n",
       "      <td>Ola Electric</td>\n",
       "      <td>Mobility - Electric</td>\n",
       "      <td>1.1</td>\n",
       "      <td>5.0</td>\n",
       "      <td>Jul/2019</td>\n",
       "      <td>Bangalore</td>\n",
       "      <td>SoftBank, Tiger Global, Matrix Partners</td>\n",
       "    </tr>\n",
       "    <tr>\n",
       "      <th>31</th>\n",
       "      <td>Unacademy</td>\n",
       "      <td>Edtech</td>\n",
       "      <td>1.4</td>\n",
       "      <td>3.4</td>\n",
       "      <td>Sep/2020</td>\n",
       "      <td>Bangalore</td>\n",
       "      <td>Blume Ventures, Nexus Venture Partners, Sequoi...</td>\n",
       "    </tr>\n",
       "    <tr>\n",
       "      <th>32</th>\n",
       "      <td>RazorPay</td>\n",
       "      <td>Fintech - Payment Gateway</td>\n",
       "      <td>1.0</td>\n",
       "      <td>7.5</td>\n",
       "      <td>Oct/2020</td>\n",
       "      <td>Bangalore</td>\n",
       "      <td>Matrix Partners India, Tiger Global, Sequoia C...</td>\n",
       "    </tr>\n",
       "    <tr>\n",
       "      <th>34</th>\n",
       "      <td>PhonePe^</td>\n",
       "      <td>Fintech - Payments</td>\n",
       "      <td>5.5</td>\n",
       "      <td>12.0</td>\n",
       "      <td>Dec/2020</td>\n",
       "      <td>Bangalore</td>\n",
       "      <td>Tiger Global, Tencent</td>\n",
       "    </tr>\n",
       "    <tr>\n",
       "      <th>36</th>\n",
       "      <td>Dailyhunt</td>\n",
       "      <td>Content - News</td>\n",
       "      <td>1.0</td>\n",
       "      <td>5.0</td>\n",
       "      <td>Dec/2020</td>\n",
       "      <td>Bangalore</td>\n",
       "      <td>Matrix Partners India, Omidyar Network, Sequoi...</td>\n",
       "    </tr>\n",
       "    <tr>\n",
       "      <th>38</th>\n",
       "      <td>Digit</td>\n",
       "      <td>Fintech - General Insurance</td>\n",
       "      <td>1.9</td>\n",
       "      <td>4.0</td>\n",
       "      <td>Jan/2021</td>\n",
       "      <td>Bangalore</td>\n",
       "      <td>Fairfax Holdings, A91 Partners, Faering Capita...</td>\n",
       "    </tr>\n",
       "    <tr>\n",
       "      <th>43</th>\n",
       "      <td>Meesho</td>\n",
       "      <td>E-Commerce - Social Commerce</td>\n",
       "      <td>2.1</td>\n",
       "      <td>4.9</td>\n",
       "      <td>Apr/2021</td>\n",
       "      <td>Bangalore</td>\n",
       "      <td>Sequoia Capital India, Elevation Capital, Soft...</td>\n",
       "    </tr>\n",
       "    <tr>\n",
       "      <th>44</th>\n",
       "      <td>CRED</td>\n",
       "      <td>Fintech - Payments &amp; Credit Card Rewards</td>\n",
       "      <td>2.2</td>\n",
       "      <td>6.4</td>\n",
       "      <td>Apr/2021</td>\n",
       "      <td>Bangalore</td>\n",
       "      <td>Sequoia Capital India, Ribbit Capital, DST Glo...</td>\n",
       "    </tr>\n",
       "    <tr>\n",
       "      <th>46</th>\n",
       "      <td>Groww</td>\n",
       "      <td>Fintech - Brokerage &amp; Mutual Funds</td>\n",
       "      <td>1.0</td>\n",
       "      <td>3.0</td>\n",
       "      <td>Apr/2021</td>\n",
       "      <td>Bangalore</td>\n",
       "      <td>Sequoia Capital India, Y Combinator, Tiger Glo...</td>\n",
       "    </tr>\n",
       "    <tr>\n",
       "      <th>47</th>\n",
       "      <td>ShareChat</td>\n",
       "      <td>Social Media</td>\n",
       "      <td>2.1</td>\n",
       "      <td>4.9</td>\n",
       "      <td>Apr/2021</td>\n",
       "      <td>Bangalore</td>\n",
       "      <td>India Quotient, Elevation Capital, Lightspeed ...</td>\n",
       "    </tr>\n",
       "    <tr>\n",
       "      <th>54</th>\n",
       "      <td>BlackBuck</td>\n",
       "      <td>Logistics Services</td>\n",
       "      <td>1.0</td>\n",
       "      <td>1.0</td>\n",
       "      <td>Jul/2021</td>\n",
       "      <td>Bangalore</td>\n",
       "      <td>Accel India, Sequoia Capital India, Sands Capi...</td>\n",
       "    </tr>\n",
       "    <tr>\n",
       "      <th>63</th>\n",
       "      <td>Zetwerk</td>\n",
       "      <td>Marketplace - Manufacturing Services</td>\n",
       "      <td>1.0</td>\n",
       "      <td>2.5</td>\n",
       "      <td>Aug/2021</td>\n",
       "      <td>Bangalore</td>\n",
       "      <td>Kae Capital, Sequoia Capital India, Accel Indi...</td>\n",
       "    </tr>\n",
       "    <tr>\n",
       "      <th>64</th>\n",
       "      <td>Mobile Premier League</td>\n",
       "      <td>Gaming</td>\n",
       "      <td>2.3</td>\n",
       "      <td>2.3</td>\n",
       "      <td>Sep/2021</td>\n",
       "      <td>Bangalore</td>\n",
       "      <td>Sequoia Capital India, Beenext, Moore Strategi...</td>\n",
       "    </tr>\n",
       "    <tr>\n",
       "      <th>65</th>\n",
       "      <td>Apna.co</td>\n",
       "      <td>Marketplace - Jobs</td>\n",
       "      <td>1.1</td>\n",
       "      <td>1.1</td>\n",
       "      <td>Sep/2021</td>\n",
       "      <td>Bangalore</td>\n",
       "      <td>Sequoia Capital India, Lightspeed Ventures, Ti...</td>\n",
       "    </tr>\n",
       "    <tr>\n",
       "      <th>66</th>\n",
       "      <td>Vedantu</td>\n",
       "      <td>Edtech</td>\n",
       "      <td>1.0</td>\n",
       "      <td>1.0</td>\n",
       "      <td>Sep/2021</td>\n",
       "      <td>Bangalore</td>\n",
       "      <td>Accel India, Tiger Global, Omidyar Network, We...</td>\n",
       "    </tr>\n",
       "    <tr>\n",
       "      <th>67</th>\n",
       "      <td>Licious</td>\n",
       "      <td>D2C - Meat</td>\n",
       "      <td>1.0</td>\n",
       "      <td>1.3</td>\n",
       "      <td>Oct/2021</td>\n",
       "      <td>Bangalore</td>\n",
       "      <td>Mayfield, 3ONE4 Capital, Sistema Asia Fund, Be...</td>\n",
       "    </tr>\n",
       "    <tr>\n",
       "      <th>68</th>\n",
       "      <td>CoinSwitch</td>\n",
       "      <td>Cryptocurrency Exchange</td>\n",
       "      <td>1.9</td>\n",
       "      <td>1.9</td>\n",
       "      <td>Oct/2021</td>\n",
       "      <td>Bangalore</td>\n",
       "      <td>Tiger Global, Sequoia Capital India, Ribbit Ca...</td>\n",
       "    </tr>\n",
       "    <tr>\n",
       "      <th>71</th>\n",
       "      <td>Acko</td>\n",
       "      <td>Fintech - General Insurance</td>\n",
       "      <td>1.1</td>\n",
       "      <td>1.1</td>\n",
       "      <td>Oct/2021</td>\n",
       "      <td>Bangalore</td>\n",
       "      <td>Accel India, Elevation Capital, Amazon, Genera...</td>\n",
       "    </tr>\n",
       "    <tr>\n",
       "      <th>73</th>\n",
       "      <td>CureFit</td>\n",
       "      <td>Healthtech - Wellness</td>\n",
       "      <td>1.5</td>\n",
       "      <td>1.5</td>\n",
       "      <td>Nov/2021</td>\n",
       "      <td>Bangalore</td>\n",
       "      <td>Accel India, Kalaari Capital, Chiratae Venture...</td>\n",
       "    </tr>\n",
       "    <tr>\n",
       "      <th>74</th>\n",
       "      <td>Mensa Brands</td>\n",
       "      <td>Aggregator - Consumer Brands</td>\n",
       "      <td>1.2</td>\n",
       "      <td>1.2</td>\n",
       "      <td>Nov/2021</td>\n",
       "      <td>Bangalore</td>\n",
       "      <td>Tiger Global, Alpha Wave Global, Accel India, ...</td>\n",
       "    </tr>\n",
       "    <tr>\n",
       "      <th>75</th>\n",
       "      <td>NoBroker</td>\n",
       "      <td>Proptech - Classifieds</td>\n",
       "      <td>1.0</td>\n",
       "      <td>1.0</td>\n",
       "      <td>Nov/2021</td>\n",
       "      <td>Bangalore</td>\n",
       "      <td>Tiger Global, General Atlantic, Elevation Capi...</td>\n",
       "    </tr>\n",
       "    <tr>\n",
       "      <th>78</th>\n",
       "      <td>Slice</td>\n",
       "      <td>Fintech - Credit Cards</td>\n",
       "      <td>1.0</td>\n",
       "      <td>1.0</td>\n",
       "      <td>Nov/2021</td>\n",
       "      <td>Bangalore</td>\n",
       "      <td>Tiger Global, Blume Ventures, Das Capital, Sim...</td>\n",
       "    </tr>\n",
       "    <tr>\n",
       "      <th>86</th>\n",
       "      <td>Polygon</td>\n",
       "      <td>Web3 Infrastructure - Dapps</td>\n",
       "      <td>10.0</td>\n",
       "      <td>10.0</td>\n",
       "      <td>Feb/2022</td>\n",
       "      <td>Bangalore</td>\n",
       "      <td>Coinbase Ventures, Sequoia Capital India, Tige...</td>\n",
       "    </tr>\n",
       "    <tr>\n",
       "      <th>88</th>\n",
       "      <td>LivSpace</td>\n",
       "      <td>Interior Design - Modular Kitchens &amp; Home Prod...</td>\n",
       "      <td>1.2</td>\n",
       "      <td>1.2</td>\n",
       "      <td>Feb/2022</td>\n",
       "      <td>Bangalore</td>\n",
       "      <td>KKR, Jungle Ventures, TPG Growth, Bessemer, Go...</td>\n",
       "    </tr>\n",
       "    <tr>\n",
       "      <th>91</th>\n",
       "      <td>Hasura</td>\n",
       "      <td>SaaS - Programming Tools</td>\n",
       "      <td>1.0</td>\n",
       "      <td>1.0</td>\n",
       "      <td>Feb/2022</td>\n",
       "      <td>Bangalore</td>\n",
       "      <td>Lightspeed Ventures, Nexus Venture Partners, V...</td>\n",
       "    </tr>\n",
       "    <tr>\n",
       "      <th>93</th>\n",
       "      <td>Amagi Media Labs</td>\n",
       "      <td>SaaS - Local Ads Targeting</td>\n",
       "      <td>1.0</td>\n",
       "      <td>1.0</td>\n",
       "      <td>Mar/2022</td>\n",
       "      <td>Bangalore</td>\n",
       "      <td>Avataar Venture Partners, PremjiInvest, Accel ...</td>\n",
       "    </tr>\n",
       "    <tr>\n",
       "      <th>96</th>\n",
       "      <td>Open Financial Technologies</td>\n",
       "      <td>Fintech - Neo Bank</td>\n",
       "      <td>1.0</td>\n",
       "      <td>1.0</td>\n",
       "      <td>May/2022</td>\n",
       "      <td>Bangalore</td>\n",
       "      <td>3ONE4 Capital, Tiger Global, Temasek, Speedinvest</td>\n",
       "    </tr>\n",
       "    <tr>\n",
       "      <th>99</th>\n",
       "      <td>Leadsquared</td>\n",
       "      <td>SaaS - CRM</td>\n",
       "      <td>1.0</td>\n",
       "      <td>1.0</td>\n",
       "      <td>Jun/2022</td>\n",
       "      <td>Bangalore</td>\n",
       "      <td>Stakeboat Capital, Gaja Capital, WestBridge</td>\n",
       "    </tr>\n",
       "  </tbody>\n",
       "</table>\n",
       "</div>"
      ],
      "text/plain": [
       "                         Company  \\\n",
       "No.                                \n",
       "6                       Ola Cabs   \n",
       "7                         Quikr*   \n",
       "11                         BYJUS   \n",
       "13                        Swiggy   \n",
       "17                         Udaan   \n",
       "21                     BigBasket   \n",
       "26                  Ola Electric   \n",
       "31                     Unacademy   \n",
       "32                      RazorPay   \n",
       "34                      PhonePe^   \n",
       "36                     Dailyhunt   \n",
       "38                         Digit   \n",
       "43                        Meesho   \n",
       "44                          CRED   \n",
       "46                         Groww   \n",
       "47                     ShareChat   \n",
       "54                     BlackBuck   \n",
       "63                       Zetwerk   \n",
       "64         Mobile Premier League   \n",
       "65                       Apna.co   \n",
       "66                       Vedantu   \n",
       "67                       Licious   \n",
       "68                    CoinSwitch   \n",
       "71                          Acko   \n",
       "73                       CureFit   \n",
       "74                  Mensa Brands   \n",
       "75                      NoBroker   \n",
       "78                         Slice   \n",
       "86                       Polygon   \n",
       "88                      LivSpace   \n",
       "91                        Hasura   \n",
       "93              Amagi Media Labs   \n",
       "96   Open Financial Technologies   \n",
       "99                   Leadsquared   \n",
       "\n",
       "                                                Sector  \\\n",
       "No.                                                      \n",
       "6                           Mobility - Ride Aggregator   \n",
       "7                            Marketplace - Classifieds   \n",
       "11                                              Edtech   \n",
       "13                                            Foodtech   \n",
       "17                                      B2B E-Commerce   \n",
       "21                              E-Commerce - Groceries   \n",
       "26                                 Mobility - Electric   \n",
       "31                                              Edtech   \n",
       "32                           Fintech - Payment Gateway   \n",
       "34                                  Fintech - Payments   \n",
       "36                                      Content - News   \n",
       "38                         Fintech - General Insurance   \n",
       "43                        E-Commerce - Social Commerce   \n",
       "44            Fintech - Payments & Credit Card Rewards   \n",
       "46                  Fintech - Brokerage & Mutual Funds   \n",
       "47                                        Social Media   \n",
       "54                                  Logistics Services   \n",
       "63                Marketplace - Manufacturing Services   \n",
       "64                                              Gaming   \n",
       "65                                  Marketplace - Jobs   \n",
       "66                                              Edtech   \n",
       "67                                          D2C - Meat   \n",
       "68                             Cryptocurrency Exchange   \n",
       "71                         Fintech - General Insurance   \n",
       "73                               Healthtech - Wellness   \n",
       "74                        Aggregator - Consumer Brands   \n",
       "75                              Proptech - Classifieds   \n",
       "78                              Fintech - Credit Cards   \n",
       "86                         Web3 Infrastructure - Dapps   \n",
       "88   Interior Design - Modular Kitchens & Home Prod...   \n",
       "91                            SaaS - Programming Tools   \n",
       "93                          SaaS - Local Ads Targeting   \n",
       "96                                  Fintech - Neo Bank   \n",
       "99                                          SaaS - CRM   \n",
       "\n",
       "     Entry Valuation^^ ($B)  Valuation ($B)     Entry   Location  \\\n",
       "No.                                                                \n",
       "6                       1.6             7.3  Mar/2015  Bangalore   \n",
       "7                       1.0             1.5  Apr/2015  Bangalore   \n",
       "11                      1.0            22.0  Jan/2018  Bangalore   \n",
       "13                      1.4            10.7  Jun/2018  Bangalore   \n",
       "17                      1.0             3.1  Sep/2018  Bangalore   \n",
       "21                      1.1             2.0  Mar/2019  Bangalore   \n",
       "26                      1.1             5.0  Jul/2019  Bangalore   \n",
       "31                      1.4             3.4  Sep/2020  Bangalore   \n",
       "32                      1.0             7.5  Oct/2020  Bangalore   \n",
       "34                      5.5            12.0  Dec/2020  Bangalore   \n",
       "36                      1.0             5.0  Dec/2020  Bangalore   \n",
       "38                      1.9             4.0  Jan/2021  Bangalore   \n",
       "43                      2.1             4.9  Apr/2021  Bangalore   \n",
       "44                      2.2             6.4  Apr/2021  Bangalore   \n",
       "46                      1.0             3.0  Apr/2021  Bangalore   \n",
       "47                      2.1             4.9  Apr/2021  Bangalore   \n",
       "54                      1.0             1.0  Jul/2021  Bangalore   \n",
       "63                      1.0             2.5  Aug/2021  Bangalore   \n",
       "64                      2.3             2.3  Sep/2021  Bangalore   \n",
       "65                      1.1             1.1  Sep/2021  Bangalore   \n",
       "66                      1.0             1.0  Sep/2021  Bangalore   \n",
       "67                      1.0             1.3  Oct/2021  Bangalore   \n",
       "68                      1.9             1.9  Oct/2021  Bangalore   \n",
       "71                      1.1             1.1  Oct/2021  Bangalore   \n",
       "73                      1.5             1.5  Nov/2021  Bangalore   \n",
       "74                      1.2             1.2  Nov/2021  Bangalore   \n",
       "75                      1.0             1.0  Nov/2021  Bangalore   \n",
       "78                      1.0             1.0  Nov/2021  Bangalore   \n",
       "86                     10.0            10.0  Feb/2022  Bangalore   \n",
       "88                      1.2             1.2  Feb/2022  Bangalore   \n",
       "91                      1.0             1.0  Feb/2022  Bangalore   \n",
       "93                      1.0             1.0  Mar/2022  Bangalore   \n",
       "96                      1.0             1.0  May/2022  Bangalore   \n",
       "99                      1.0             1.0  Jun/2022  Bangalore   \n",
       "\n",
       "                                      Select Investors  \n",
       "No.                                                     \n",
       "6    Tiger Global, Matrix Partners, Steadview, Soft...  \n",
       "7    Matrix Partners, Omidyar Network, Norwest, Kin...  \n",
       "11   Aarin Capital, Sequoia Capital, Lightspeed Ven...  \n",
       "13   Accel, Elevation Capital, Norwest, Naspers, Te...  \n",
       "17            Lightspeed Ventures, DST Global, Tencent  \n",
       "21   Ascent Capital, Helion Ventures, Bessemer, IFC...  \n",
       "26             SoftBank, Tiger Global, Matrix Partners  \n",
       "31   Blume Ventures, Nexus Venture Partners, Sequoi...  \n",
       "32   Matrix Partners India, Tiger Global, Sequoia C...  \n",
       "34                               Tiger Global, Tencent  \n",
       "36   Matrix Partners India, Omidyar Network, Sequoi...  \n",
       "38   Fairfax Holdings, A91 Partners, Faering Capita...  \n",
       "43   Sequoia Capital India, Elevation Capital, Soft...  \n",
       "44   Sequoia Capital India, Ribbit Capital, DST Glo...  \n",
       "46   Sequoia Capital India, Y Combinator, Tiger Glo...  \n",
       "47   India Quotient, Elevation Capital, Lightspeed ...  \n",
       "54   Accel India, Sequoia Capital India, Sands Capi...  \n",
       "63   Kae Capital, Sequoia Capital India, Accel Indi...  \n",
       "64   Sequoia Capital India, Beenext, Moore Strategi...  \n",
       "65   Sequoia Capital India, Lightspeed Ventures, Ti...  \n",
       "66   Accel India, Tiger Global, Omidyar Network, We...  \n",
       "67   Mayfield, 3ONE4 Capital, Sistema Asia Fund, Be...  \n",
       "68   Tiger Global, Sequoia Capital India, Ribbit Ca...  \n",
       "71   Accel India, Elevation Capital, Amazon, Genera...  \n",
       "73   Accel India, Kalaari Capital, Chiratae Venture...  \n",
       "74   Tiger Global, Alpha Wave Global, Accel India, ...  \n",
       "75   Tiger Global, General Atlantic, Elevation Capi...  \n",
       "78   Tiger Global, Blume Ventures, Das Capital, Sim...  \n",
       "86   Coinbase Ventures, Sequoia Capital India, Tige...  \n",
       "88   KKR, Jungle Ventures, TPG Growth, Bessemer, Go...  \n",
       "91   Lightspeed Ventures, Nexus Venture Partners, V...  \n",
       "93   Avataar Venture Partners, PremjiInvest, Accel ...  \n",
       "96   3ONE4 Capital, Tiger Global, Temasek, Speedinvest  \n",
       "99         Stakeboat Capital, Gaja Capital, WestBridge  "
      ]
     },
     "execution_count": 35,
     "metadata": {},
     "output_type": "execute_result"
    }
   ],
   "source": [
    "Bangalore_startup_list"
   ]
  },
  {
   "cell_type": "code",
   "execution_count": 36,
   "id": "ec5d08f6",
   "metadata": {},
   "outputs": [
    {
     "data": {
      "text/plain": [
       "Location               \n",
       "Bangalore                  34\n",
       "Gurgaon                    14\n",
       "Mumbai                     12\n",
       "Delhi                       7\n",
       "Pune                        4\n",
       "Noida                       4\n",
       "Bangalore/San Francisco     3\n",
       "Bangalore/Singapore         3\n",
       "Jaipur                      2\n",
       "Chennai                     2\n",
       "Goa                         1\n",
       "Chennai/San Mateo           1\n",
       "Pune/Sunnyvale              1\n",
       "Pune/Bellevue               1\n",
       "Noida/Singapore             1\n",
       "Noida/San Francisco         1\n",
       "Chennai/Palo Alto           1\n",
       "Mumbai/Singapore            1\n",
       "Mumbai/San Francisco        1\n",
       "Mumbai/Princeton            1\n",
       "Mumbai/New York             1\n",
       "Mumbai/Dublin               1\n",
       "Chennai/San Francisco       1\n",
       "Bangalore/Chicago           1\n",
       "Hyderabad/Singapore         1\n",
       "Hyderabad/Bellevue          1\n",
       "Thane                       1\n",
       "dtype: int64"
      ]
     },
     "execution_count": 36,
     "metadata": {},
     "output_type": "execute_result"
    }
   ],
   "source": [
    "Location_counts"
   ]
  },
  {
   "cell_type": "code",
   "execution_count": 37,
   "id": "3f53ea0b",
   "metadata": {
    "scrolled": true
   },
   "outputs": [],
   "source": [
    "Bangalore_startup_groupby_sector_list=Bangalore_startup_list.groupby(['Sector']).sum()"
   ]
  },
  {
   "cell_type": "code",
   "execution_count": 38,
   "id": "4401fb65",
   "metadata": {},
   "outputs": [
    {
     "data": {
      "text/plain": [
       "<AxesSubplot:xlabel='Sector'>"
      ]
     },
     "execution_count": 38,
     "metadata": {},
     "output_type": "execute_result"
    },
    {
     "data": {
      "image/png": "[encoded data removed]",
      "text/plain": [
       "<Figure size 640x480 with 1 Axes>"
      ]
     },
     "metadata": {},
     "output_type": "display_data"
    }
   ],
   "source": [
    "Bangalore_startup_groupby_sector_list.head(30).plot.bar()"
   ]
  },
  {
   "cell_type": "code",
   "execution_count": 39,
   "id": "eed093c1",
   "metadata": {},
   "outputs": [
    {
     "data": {
      "text/plain": [
       "<AxesSubplot:xlabel='Sector'>"
      ]
     },
     "execution_count": 39,
     "metadata": {},
     "output_type": "execute_result"
    },
    {
     "data": {
      "image/png": "[encoded data removed]",
      "text/plain": [
       "<Figure size 640x480 with 1 Axes>"
      ]
     },
     "metadata": {},
     "output_type": "display_data"
    }
   ],
   "source": [
    "unicorn_startup.groupby(['Sector']).sum().head(20).plot.bar()"
   ]
  },
  {
   "cell_type": "code",
   "execution_count": 40,
   "id": "a2b1455a",
   "metadata": {
    "slideshow": {
     "slide_type": "slide"
    }
   },
   "outputs": [
    {
     "data": {
      "text/plain": [
       "<AxesSubplot:ylabel='Frequency'>"
      ]
     },
     "execution_count": 40,
     "metadata": {},
     "output_type": "execute_result"
    },
    {
     "data": {
      "image/png": "[encoded data removed]",
      "text/plain": [
       "<Figure size 640x480 with 1 Axes>"
      ]
     },
     "metadata": {},
     "output_type": "display_data"
    }
   ],
   "source": [
    "unicorn_startup.plot.hist()"
   ]
  },
  {
   "cell_type": "code",
   "execution_count": 41,
   "id": "ea9e77d1",
   "metadata": {},
   "outputs": [
    {
     "data": {
      "text/plain": [
       "Index(['Company', 'Sector', 'Entry Valuation^^ ($B)', 'Valuation ($B)',\n",
       "       'Entry', 'Location', 'Select Investors'],\n",
       "      dtype='object')"
      ]
     },
     "execution_count": 41,
     "metadata": {},
     "output_type": "execute_result"
    }
   ],
   "source": [
    "unicorn_startup.columns"
   ]
  },
  {
   "cell_type": "code",
   "execution_count": 42,
   "id": "87efe6fe",
   "metadata": {},
   "outputs": [],
   "source": [
    "filtered_unicorns = unicorn_startup[unicorn_startup['Valuation ($B)'] >= 5]"
   ]
  },
  {
   "cell_type": "code",
   "execution_count": 43,
   "id": "007e8898",
   "metadata": {
    "scrolled": true
   },
   "outputs": [
    {
     "data": {
      "text/plain": [
       "<AxesSubplot:xlabel='Company'>"
      ]
     },
     "execution_count": 43,
     "metadata": {},
     "output_type": "execute_result"
    },
    {
     "data": {
      "image/png": "[encoded data removed]",
      "text/plain": [
       "<Figure size 640x480 with 1 Axes>"
      ]
     },
     "metadata": {},
     "output_type": "display_data"
    }
   ],
   "source": [
    "filtered_unicorns.plot.bar(0)"
   ]
  },
  {
   "cell_type": "code",
   "execution_count": 44,
   "id": "f3cca366",
   "metadata": {
    "scrolled": false
   },
   "outputs": [
    {
     "data": {
      "text/plain": [
       "Sector                                  \n",
       "Foodtech                                    2\n",
       "E-Commerce                                  1\n",
       "SaaS - Contract Management                  1\n",
       "SaaS - API Development & Testing            1\n",
       "Proptech - Hotel Booking                    1\n",
       "NBFC - SME Loans                            1\n",
       "Mobility - Ride Aggregator                  1\n",
       "Mobility - Electric                         1\n",
       "Gaming                                      1\n",
       "Content - News                              1\n",
       "Fintech - PoS Payment Solutions             1\n",
       "Fintech - Payments & Wallet                 1\n",
       "Fintech - Payments & Credit Card Rewards    1\n",
       "Fintech - Payments                          1\n",
       "Fintech - Payment Gateway                   1\n",
       "Edtech                                      1\n",
       "E-Commerce - Online Pharmacy                1\n",
       "Web3 Infrastructure - Dapps                 1\n",
       "dtype: int64"
      ]
     },
     "execution_count": 44,
     "metadata": {},
     "output_type": "execute_result"
    }
   ],
   "source": [
    "filtered_unicorns[[\"Sector\"]].value_counts()"
   ]
  },
  {
   "cell_type": "code",
   "execution_count": 45,
   "id": "7ed668fc",
   "metadata": {
    "scrolled": true
   },
   "outputs": [
    {
     "data": {
      "text/html": [
       "<div>\n",
       "<style scoped>\n",
       "    .dataframe tbody tr th:only-of-type {\n",
       "        vertical-align: middle;\n",
       "    }\n",
       "\n",
       "    .dataframe tbody tr th {\n",
       "        vertical-align: top;\n",
       "    }\n",
       "\n",
       "    .dataframe thead th {\n",
       "        text-align: right;\n",
       "    }\n",
       "</style>\n",
       "<table border=\"1\" class=\"dataframe\">\n",
       "  <thead>\n",
       "    <tr style=\"text-align: right;\">\n",
       "      <th></th>\n",
       "      <th>Company</th>\n",
       "      <th>Sector</th>\n",
       "      <th>Entry Valuation^^ ($B)</th>\n",
       "      <th>Valuation ($B)</th>\n",
       "      <th>Entry</th>\n",
       "      <th>Location</th>\n",
       "      <th>Select Investors</th>\n",
       "    </tr>\n",
       "    <tr>\n",
       "      <th>No.</th>\n",
       "      <th></th>\n",
       "      <th></th>\n",
       "      <th></th>\n",
       "      <th></th>\n",
       "      <th></th>\n",
       "      <th></th>\n",
       "      <th></th>\n",
       "    </tr>\n",
       "  </thead>\n",
       "  <tbody>\n",
       "    <tr>\n",
       "      <th>2</th>\n",
       "      <td>Flipkart^</td>\n",
       "      <td>E-Commerce</td>\n",
       "      <td>1.0</td>\n",
       "      <td>37.6</td>\n",
       "      <td>Feb/2012</td>\n",
       "      <td>Bangalore/Singapore</td>\n",
       "      <td>Accel, Tiger Global, Naspers, SoftBank, Tencent</td>\n",
       "    </tr>\n",
       "    <tr>\n",
       "      <th>5</th>\n",
       "      <td>PayTM^</td>\n",
       "      <td>Fintech - Payments &amp; Wallet</td>\n",
       "      <td>1.7</td>\n",
       "      <td>16.0</td>\n",
       "      <td>Feb/2015</td>\n",
       "      <td>Noida</td>\n",
       "      <td>Saama Capital, Elevation Capital, Alibaba, Ber...</td>\n",
       "    </tr>\n",
       "    <tr>\n",
       "      <th>6</th>\n",
       "      <td>Ola Cabs</td>\n",
       "      <td>Mobility - Ride Aggregator</td>\n",
       "      <td>1.6</td>\n",
       "      <td>7.3</td>\n",
       "      <td>Mar/2015</td>\n",
       "      <td>Bangalore</td>\n",
       "      <td>Tiger Global, Matrix Partners, Steadview, Soft...</td>\n",
       "    </tr>\n",
       "    <tr>\n",
       "      <th>8</th>\n",
       "      <td>Zomato^</td>\n",
       "      <td>Foodtech</td>\n",
       "      <td>1.0</td>\n",
       "      <td>5.4</td>\n",
       "      <td>Sep/2015</td>\n",
       "      <td>Gurgaon</td>\n",
       "      <td>Info Edge, Sequoia Capital, Vy Capital, Alibab...</td>\n",
       "    </tr>\n",
       "    <tr>\n",
       "      <th>11</th>\n",
       "      <td>BYJUS</td>\n",
       "      <td>Edtech</td>\n",
       "      <td>1.0</td>\n",
       "      <td>22.0</td>\n",
       "      <td>Jan/2018</td>\n",
       "      <td>Bangalore</td>\n",
       "      <td>Aarin Capital, Sequoia Capital, Lightspeed Ven...</td>\n",
       "    </tr>\n",
       "    <tr>\n",
       "      <th>13</th>\n",
       "      <td>Swiggy</td>\n",
       "      <td>Foodtech</td>\n",
       "      <td>1.4</td>\n",
       "      <td>10.7</td>\n",
       "      <td>Jun/2018</td>\n",
       "      <td>Bangalore</td>\n",
       "      <td>Accel, Elevation Capital, Norwest, Naspers, Te...</td>\n",
       "    </tr>\n",
       "    <tr>\n",
       "      <th>16</th>\n",
       "      <td>OYO Rooms</td>\n",
       "      <td>Proptech - Hotel Booking</td>\n",
       "      <td>4.9</td>\n",
       "      <td>9.6</td>\n",
       "      <td>Sep/2018</td>\n",
       "      <td>Gurgaon</td>\n",
       "      <td>Lightspeed Ventures, Sequoia Capital, SoftBank</td>\n",
       "    </tr>\n",
       "    <tr>\n",
       "      <th>22</th>\n",
       "      <td>Dream11</td>\n",
       "      <td>Gaming</td>\n",
       "      <td>1.0</td>\n",
       "      <td>8.0</td>\n",
       "      <td>Apr/2019</td>\n",
       "      <td>Mumbai</td>\n",
       "      <td>Kalaari Capital, Tencent, Multiples PE, Steadv...</td>\n",
       "    </tr>\n",
       "    <tr>\n",
       "      <th>24</th>\n",
       "      <td>Icertis</td>\n",
       "      <td>SaaS - Contract Management</td>\n",
       "      <td>1.0</td>\n",
       "      <td>5.0</td>\n",
       "      <td>Jul/2019</td>\n",
       "      <td>Pune/Bellevue</td>\n",
       "      <td>Eight Roads, B Capital, PremjiInvest</td>\n",
       "    </tr>\n",
       "    <tr>\n",
       "      <th>26</th>\n",
       "      <td>Ola Electric</td>\n",
       "      <td>Mobility - Electric</td>\n",
       "      <td>1.1</td>\n",
       "      <td>5.0</td>\n",
       "      <td>Jul/2019</td>\n",
       "      <td>Bangalore</td>\n",
       "      <td>SoftBank, Tiger Global, Matrix Partners</td>\n",
       "    </tr>\n",
       "    <tr>\n",
       "      <th>28</th>\n",
       "      <td>Pine Labs</td>\n",
       "      <td>Fintech - PoS Payment Solutions</td>\n",
       "      <td>1.6</td>\n",
       "      <td>5.0</td>\n",
       "      <td>Jan/2020</td>\n",
       "      <td>Noida</td>\n",
       "      <td>Sequoia Capital India, New Atlantic Ventures, ...</td>\n",
       "    </tr>\n",
       "    <tr>\n",
       "      <th>30</th>\n",
       "      <td>Postman</td>\n",
       "      <td>SaaS - API Development &amp; Testing</td>\n",
       "      <td>2.0</td>\n",
       "      <td>5.6</td>\n",
       "      <td>Jun/2020</td>\n",
       "      <td>Bangalore/San Francisco</td>\n",
       "      <td>Nexus Ventures, Charles River Ventures, Insigh...</td>\n",
       "    </tr>\n",
       "    <tr>\n",
       "      <th>32</th>\n",
       "      <td>RazorPay</td>\n",
       "      <td>Fintech - Payment Gateway</td>\n",
       "      <td>1.0</td>\n",
       "      <td>7.5</td>\n",
       "      <td>Oct/2020</td>\n",
       "      <td>Bangalore</td>\n",
       "      <td>Matrix Partners India, Tiger Global, Sequoia C...</td>\n",
       "    </tr>\n",
       "    <tr>\n",
       "      <th>34</th>\n",
       "      <td>PhonePe^</td>\n",
       "      <td>Fintech - Payments</td>\n",
       "      <td>5.5</td>\n",
       "      <td>12.0</td>\n",
       "      <td>Dec/2020</td>\n",
       "      <td>Bangalore</td>\n",
       "      <td>Tiger Global, Tencent</td>\n",
       "    </tr>\n",
       "    <tr>\n",
       "      <th>36</th>\n",
       "      <td>Dailyhunt</td>\n",
       "      <td>Content - News</td>\n",
       "      <td>1.0</td>\n",
       "      <td>5.0</td>\n",
       "      <td>Dec/2020</td>\n",
       "      <td>Bangalore</td>\n",
       "      <td>Matrix Partners India, Omidyar Network, Sequoi...</td>\n",
       "    </tr>\n",
       "    <tr>\n",
       "      <th>44</th>\n",
       "      <td>CRED</td>\n",
       "      <td>Fintech - Payments &amp; Credit Card Rewards</td>\n",
       "      <td>2.2</td>\n",
       "      <td>6.4</td>\n",
       "      <td>Apr/2021</td>\n",
       "      <td>Bangalore</td>\n",
       "      <td>Sequoia Capital India, Ribbit Capital, DST Glo...</td>\n",
       "    </tr>\n",
       "    <tr>\n",
       "      <th>45</th>\n",
       "      <td>PharmEasy</td>\n",
       "      <td>E-Commerce - Online Pharmacy</td>\n",
       "      <td>1.5</td>\n",
       "      <td>5.6</td>\n",
       "      <td>Apr/2021</td>\n",
       "      <td>Mumbai</td>\n",
       "      <td>Orios VP, Eight Roads Ventures, Temasek, Naspe...</td>\n",
       "    </tr>\n",
       "    <tr>\n",
       "      <th>56</th>\n",
       "      <td>OfBusiness</td>\n",
       "      <td>NBFC - SME Loans</td>\n",
       "      <td>1.5</td>\n",
       "      <td>5.0</td>\n",
       "      <td>Jul/2021</td>\n",
       "      <td>Gurgaon</td>\n",
       "      <td>SoftBank, Tiger Global, Matrix Partners India,...</td>\n",
       "    </tr>\n",
       "    <tr>\n",
       "      <th>86</th>\n",
       "      <td>Polygon</td>\n",
       "      <td>Web3 Infrastructure - Dapps</td>\n",
       "      <td>10.0</td>\n",
       "      <td>10.0</td>\n",
       "      <td>Feb/2022</td>\n",
       "      <td>Bangalore</td>\n",
       "      <td>Coinbase Ventures, Sequoia Capital India, Tige...</td>\n",
       "    </tr>\n",
       "  </tbody>\n",
       "</table>\n",
       "</div>"
      ],
      "text/plain": [
       "          Company                                    Sector  \\\n",
       "No.                                                           \n",
       "2       Flipkart^                                E-Commerce   \n",
       "5          PayTM^               Fintech - Payments & Wallet   \n",
       "6        Ola Cabs                Mobility - Ride Aggregator   \n",
       "8         Zomato^                                  Foodtech   \n",
       "11          BYJUS                                    Edtech   \n",
       "13         Swiggy                                  Foodtech   \n",
       "16      OYO Rooms                  Proptech - Hotel Booking   \n",
       "22        Dream11                                    Gaming   \n",
       "24        Icertis                SaaS - Contract Management   \n",
       "26   Ola Electric                       Mobility - Electric   \n",
       "28      Pine Labs           Fintech - PoS Payment Solutions   \n",
       "30        Postman          SaaS - API Development & Testing   \n",
       "32       RazorPay                 Fintech - Payment Gateway   \n",
       "34       PhonePe^                        Fintech - Payments   \n",
       "36      Dailyhunt                            Content - News   \n",
       "44           CRED  Fintech - Payments & Credit Card Rewards   \n",
       "45      PharmEasy              E-Commerce - Online Pharmacy   \n",
       "56     OfBusiness                          NBFC - SME Loans   \n",
       "86        Polygon               Web3 Infrastructure - Dapps   \n",
       "\n",
       "     Entry Valuation^^ ($B)  Valuation ($B)     Entry  \\\n",
       "No.                                                     \n",
       "2                       1.0            37.6  Feb/2012   \n",
       "5                       1.7            16.0  Feb/2015   \n",
       "6                       1.6             7.3  Mar/2015   \n",
       "8                       1.0             5.4  Sep/2015   \n",
       "11                      1.0            22.0  Jan/2018   \n",
       "13                      1.4            10.7  Jun/2018   \n",
       "16                      4.9             9.6  Sep/2018   \n",
       "22                      1.0             8.0  Apr/2019   \n",
       "24                      1.0             5.0  Jul/2019   \n",
       "26                      1.1             5.0  Jul/2019   \n",
       "28                      1.6             5.0  Jan/2020   \n",
       "30                      2.0             5.6  Jun/2020   \n",
       "32                      1.0             7.5  Oct/2020   \n",
       "34                      5.5            12.0  Dec/2020   \n",
       "36                      1.0             5.0  Dec/2020   \n",
       "44                      2.2             6.4  Apr/2021   \n",
       "45                      1.5             5.6  Apr/2021   \n",
       "56                      1.5             5.0  Jul/2021   \n",
       "86                     10.0            10.0  Feb/2022   \n",
       "\n",
       "                    Location  \\\n",
       "No.                            \n",
       "2        Bangalore/Singapore   \n",
       "5                      Noida   \n",
       "6                  Bangalore   \n",
       "8                    Gurgaon   \n",
       "11                 Bangalore   \n",
       "13                 Bangalore   \n",
       "16                   Gurgaon   \n",
       "22                    Mumbai   \n",
       "24             Pune/Bellevue   \n",
       "26                 Bangalore   \n",
       "28                     Noida   \n",
       "30   Bangalore/San Francisco   \n",
       "32                 Bangalore   \n",
       "34                 Bangalore   \n",
       "36                 Bangalore   \n",
       "44                 Bangalore   \n",
       "45                    Mumbai   \n",
       "56                   Gurgaon   \n",
       "86                 Bangalore   \n",
       "\n",
       "                                      Select Investors  \n",
       "No.                                                     \n",
       "2      Accel, Tiger Global, Naspers, SoftBank, Tencent  \n",
       "5    Saama Capital, Elevation Capital, Alibaba, Ber...  \n",
       "6    Tiger Global, Matrix Partners, Steadview, Soft...  \n",
       "8    Info Edge, Sequoia Capital, Vy Capital, Alibab...  \n",
       "11   Aarin Capital, Sequoia Capital, Lightspeed Ven...  \n",
       "13   Accel, Elevation Capital, Norwest, Naspers, Te...  \n",
       "16      Lightspeed Ventures, Sequoia Capital, SoftBank  \n",
       "22   Kalaari Capital, Tencent, Multiples PE, Steadv...  \n",
       "24                Eight Roads, B Capital, PremjiInvest  \n",
       "26             SoftBank, Tiger Global, Matrix Partners  \n",
       "28   Sequoia Capital India, New Atlantic Ventures, ...  \n",
       "30   Nexus Ventures, Charles River Ventures, Insigh...  \n",
       "32   Matrix Partners India, Tiger Global, Sequoia C...  \n",
       "34                               Tiger Global, Tencent  \n",
       "36   Matrix Partners India, Omidyar Network, Sequoi...  \n",
       "44   Sequoia Capital India, Ribbit Capital, DST Glo...  \n",
       "45   Orios VP, Eight Roads Ventures, Temasek, Naspe...  \n",
       "56   SoftBank, Tiger Global, Matrix Partners India,...  \n",
       "86   Coinbase Ventures, Sequoia Capital India, Tige...  "
      ]
     },
     "execution_count": 45,
     "metadata": {},
     "output_type": "execute_result"
    }
   ],
   "source": [
    "filtered_unicorns"
   ]
  },
  {
   "cell_type": "code",
   "execution_count": 46,
   "id": "f5d41ab4",
   "metadata": {},
   "outputs": [],
   "source": [
    "from sklearn import linear_model"
   ]
  },
  {
   "cell_type": "code",
   "execution_count": 47,
   "id": "579924cb",
   "metadata": {
    "scrolled": false
   },
   "outputs": [],
   "source": [
    "df=pd.read_csv(\"Prices.csv\")"
   ]
  },
  {
   "cell_type": "code",
   "execution_count": 48,
   "id": "31ebfcee",
   "metadata": {},
   "outputs": [
    {
     "data": {
      "text/html": [
       "<div>\n",
       "<style scoped>\n",
       "    .dataframe tbody tr th:only-of-type {\n",
       "        vertical-align: middle;\n",
       "    }\n",
       "\n",
       "    .dataframe tbody tr th {\n",
       "        vertical-align: top;\n",
       "    }\n",
       "\n",
       "    .dataframe thead th {\n",
       "        text-align: right;\n",
       "    }\n",
       "</style>\n",
       "<table border=\"1\" class=\"dataframe\">\n",
       "  <thead>\n",
       "    <tr style=\"text-align: right;\">\n",
       "      <th></th>\n",
       "      <th>Area</th>\n",
       "      <th>Price</th>\n",
       "    </tr>\n",
       "  </thead>\n",
       "  <tbody>\n",
       "    <tr>\n",
       "      <th>0</th>\n",
       "      <td>5500</td>\n",
       "      <td>20000</td>\n",
       "    </tr>\n",
       "    <tr>\n",
       "      <th>1</th>\n",
       "      <td>7000</td>\n",
       "      <td>45000</td>\n",
       "    </tr>\n",
       "    <tr>\n",
       "      <th>2</th>\n",
       "      <td>3400</td>\n",
       "      <td>15000</td>\n",
       "    </tr>\n",
       "    <tr>\n",
       "      <th>3</th>\n",
       "      <td>4700</td>\n",
       "      <td>18700</td>\n",
       "    </tr>\n",
       "    <tr>\n",
       "      <th>4</th>\n",
       "      <td>1000</td>\n",
       "      <td>13600</td>\n",
       "    </tr>\n",
       "  </tbody>\n",
       "</table>\n",
       "</div>"
      ],
      "text/plain": [
       "   Area  Price\n",
       "0  5500  20000\n",
       "1  7000  45000\n",
       "2  3400  15000\n",
       "3  4700  18700\n",
       "4  1000  13600"
      ]
     },
     "execution_count": 48,
     "metadata": {},
     "output_type": "execute_result"
    }
   ],
   "source": [
    "df"
   ]
  },
  {
   "cell_type": "code",
   "execution_count": 49,
   "id": "3406ce45",
   "metadata": {},
   "outputs": [],
   "source": [
    "res=linear_model.LinearRegression()"
   ]
  },
  {
   "cell_type": "code",
   "execution_count": 50,
   "id": "59abb49e",
   "metadata": {},
   "outputs": [
    {
     "data": {
      "text/plain": [
       "sklearn.linear_model._base.LinearRegression"
      ]
     },
     "execution_count": 50,
     "metadata": {},
     "output_type": "execute_result"
    }
   ],
   "source": [
    "type(res.fit(df[[\"Area\"]],df.Price))"
   ]
  },
  {
   "cell_type": "code",
   "execution_count": 51,
   "id": "de3bbe0b",
   "metadata": {},
   "outputs": [],
   "source": [
    "import matplotlib.pyplot as plt"
   ]
  },
  {
   "cell_type": "code",
   "execution_count": 52,
   "id": "b328f077",
   "metadata": {},
   "outputs": [
    {
     "data": {
      "image/png": "[encoded data removed]",
      "text/plain": [
       "<Figure size 640x480 with 1 Axes>"
      ]
     },
     "metadata": {},
     "output_type": "display_data"
    }
   ],
   "source": [
    "plt.xlabel(\"Prices\")\n",
    "plt.ylabel(\"Area\")\n",
    "plt.scatter(df.Area,df.Price,color=\"r\",marker=\"+\")\n",
    "plt.show()"
   ]
  },
  {
   "cell_type": "code",
   "execution_count": 53,
   "id": "06d2e982",
   "metadata": {},
   "outputs": [],
   "source": [
    "import numpy as np"
   ]
  },
  {
   "cell_type": "code",
   "execution_count": 54,
   "id": "38e60e7c",
   "metadata": {},
   "outputs": [],
   "source": [
    "X=np.array([5000]).reshape(1,-1)"
   ]
  },
  {
   "cell_type": "code",
   "execution_count": 55,
   "id": "eb3c8a6f",
   "metadata": {},
   "outputs": [
    {
     "data": {
      "text/plain": [
       "array([[5000]])"
      ]
     },
     "execution_count": 55,
     "metadata": {},
     "output_type": "execute_result"
    }
   ],
   "source": [
    "X"
   ]
  },
  {
   "cell_type": "code",
   "execution_count": 56,
   "id": "f32d86cd",
   "metadata": {},
   "outputs": [
    {
     "data": {
      "text/plain": [
       "(1, 1)"
      ]
     },
     "execution_count": 56,
     "metadata": {},
     "output_type": "execute_result"
    }
   ],
   "source": [
    "X.shape"
   ]
  },
  {
   "cell_type": "code",
   "execution_count": 57,
   "id": "b66c215c",
   "metadata": {},
   "outputs": [
    {
     "name": "stderr",
     "output_type": "stream",
     "text": [
      "/data/user/0/ru.iiec.pydroid3/files/arm-linux-androideabi/lib/python3.9/site-packages/sklearn/base.py:441: UserWarning: X does not have valid feature names, but LinearRegression was fitted with feature names\n",
      "  warnings.warn(\n"
     ]
    },
    {
     "data": {
      "text/plain": [
       "array([25510.35554692])"
      ]
     },
     "execution_count": 57,
     "metadata": {},
     "output_type": "execute_result"
    }
   ],
   "source": [
    "res.predict(X)"
   ]
  },
  {
   "cell_type": "code",
   "execution_count": 58,
   "id": "0ddf69f9",
   "metadata": {},
   "outputs": [],
   "source": [
    "Y=np.array([20000]).reshape(-1,1)"
   ]
  },
  {
   "cell_type": "code",
   "execution_count": 59,
   "id": "35cbf09f",
   "metadata": {},
   "outputs": [
    {
     "data": {
      "text/plain": [
       "array([[20000]])"
      ]
     },
     "execution_count": 59,
     "metadata": {},
     "output_type": "execute_result"
    }
   ],
   "source": [
    "Y"
   ]
  },
  {
   "cell_type": "code",
   "execution_count": 60,
   "id": "a033d56e",
   "metadata": {},
   "outputs": [
    {
     "data": {
      "text/plain": [
       "(1, 1)"
      ]
     },
     "execution_count": 60,
     "metadata": {},
     "output_type": "execute_result"
    }
   ],
   "source": [
    "Y.shape"
   ]
  },
  {
   "cell_type": "code",
   "execution_count": 61,
   "id": "6e57e23e",
   "metadata": {},
   "outputs": [
    {
     "name": "stderr",
     "output_type": "stream",
     "text": [
      "/data/user/0/ru.iiec.pydroid3/files/arm-linux-androideabi/lib/python3.9/site-packages/sklearn/base.py:441: UserWarning: X does not have valid feature names, but LinearRegression was fitted with feature names\n",
      "  warnings.warn(\n"
     ]
    },
    {
     "data": {
      "text/plain": [
       "array([92797.6102584])"
      ]
     },
     "execution_count": 61,
     "metadata": {},
     "output_type": "execute_result"
    }
   ],
   "source": [
    "res.predict(Y)"
   ]
  },
  {
   "cell_type": "code",
   "execution_count": 62,
   "id": "b7bbf9f2",
   "metadata": {},
   "outputs": [],
   "source": [
    "y=df.Price"
   ]
  },
  {
   "cell_type": "code",
   "execution_count": 63,
   "id": "0edecbce",
   "metadata": {
    "scrolled": false
   },
   "outputs": [],
   "source": [
    "df_features=df['Area']"
   ]
  },
  {
   "cell_type": "code",
   "execution_count": 64,
   "id": "1881d582",
   "metadata": {},
   "outputs": [
    {
     "data": {
      "text/plain": [
       "5500"
      ]
     },
     "execution_count": 64,
     "metadata": {},
     "output_type": "execute_result"
    }
   ],
   "source": [
    "df_features[0]"
   ]
  },
  {
   "cell_type": "code",
   "execution_count": 65,
   "id": "eebd2bf3",
   "metadata": {},
   "outputs": [],
   "source": [
    "dict={'Area':[2300,20000,600,8000,7700]}"
   ]
  },
  {
   "cell_type": "code",
   "execution_count": 66,
   "id": "47c2fea9",
   "metadata": {},
   "outputs": [
    {
     "data": {
      "text/html": [
       "<div>\n",
       "<style scoped>\n",
       "    .dataframe tbody tr th:only-of-type {\n",
       "        vertical-align: middle;\n",
       "    }\n",
       "\n",
       "    .dataframe tbody tr th {\n",
       "        vertical-align: top;\n",
       "    }\n",
       "\n",
       "    .dataframe thead th {\n",
       "        text-align: right;\n",
       "    }\n",
       "</style>\n",
       "<table border=\"1\" class=\"dataframe\">\n",
       "  <thead>\n",
       "    <tr style=\"text-align: right;\">\n",
       "      <th></th>\n",
       "      <th>Area</th>\n",
       "    </tr>\n",
       "  </thead>\n",
       "  <tbody>\n",
       "    <tr>\n",
       "      <th>0</th>\n",
       "      <td>2300</td>\n",
       "    </tr>\n",
       "    <tr>\n",
       "      <th>1</th>\n",
       "      <td>20000</td>\n",
       "    </tr>\n",
       "    <tr>\n",
       "      <th>2</th>\n",
       "      <td>600</td>\n",
       "    </tr>\n",
       "    <tr>\n",
       "      <th>3</th>\n",
       "      <td>8000</td>\n",
       "    </tr>\n",
       "    <tr>\n",
       "      <th>4</th>\n",
       "      <td>7700</td>\n",
       "    </tr>\n",
       "  </tbody>\n",
       "</table>\n",
       "</div>"
      ],
      "text/plain": [
       "    Area\n",
       "0   2300\n",
       "1  20000\n",
       "2    600\n",
       "3   8000\n",
       "4   7700"
      ]
     },
     "execution_count": 66,
     "metadata": {},
     "output_type": "execute_result"
    }
   ],
   "source": [
    "dataframe=pd.DataFrame(dict)\n",
    "dataframe"
   ]
  },
  {
   "cell_type": "code",
   "execution_count": 67,
   "id": "d05de4de",
   "metadata": {},
   "outputs": [
    {
     "data": {
      "text/html": [
       "<div>\n",
       "<style scoped>\n",
       "    .dataframe tbody tr th:only-of-type {\n",
       "        vertical-align: middle;\n",
       "    }\n",
       "\n",
       "    .dataframe tbody tr th {\n",
       "        vertical-align: top;\n",
       "    }\n",
       "\n",
       "    .dataframe thead th {\n",
       "        text-align: right;\n",
       "    }\n",
       "</style>\n",
       "<table border=\"1\" class=\"dataframe\">\n",
       "  <thead>\n",
       "    <tr style=\"text-align: right;\">\n",
       "      <th></th>\n",
       "      <th>Area</th>\n",
       "    </tr>\n",
       "  </thead>\n",
       "  <tbody>\n",
       "    <tr>\n",
       "      <th>0</th>\n",
       "      <td>2300</td>\n",
       "    </tr>\n",
       "    <tr>\n",
       "      <th>1</th>\n",
       "      <td>20000</td>\n",
       "    </tr>\n",
       "    <tr>\n",
       "      <th>2</th>\n",
       "      <td>600</td>\n",
       "    </tr>\n",
       "    <tr>\n",
       "      <th>3</th>\n",
       "      <td>8000</td>\n",
       "    </tr>\n",
       "    <tr>\n",
       "      <th>4</th>\n",
       "      <td>7700</td>\n",
       "    </tr>\n",
       "  </tbody>\n",
       "</table>\n",
       "</div>"
      ],
      "text/plain": [
       "    Area\n",
       "0   2300\n",
       "1  20000\n",
       "2    600\n",
       "3   8000\n",
       "4   7700"
      ]
     },
     "execution_count": 67,
     "metadata": {},
     "output_type": "execute_result"
    }
   ],
   "source": [
    "x = dataframe[['Area']]\n",
    "x"
   ]
  },
  {
   "cell_type": "code",
   "execution_count": 68,
   "id": "649ba983",
   "metadata": {
    "slideshow": {
     "slide_type": "slide"
    }
   },
   "outputs": [],
   "source": [
    "from sklearn.tree import DecisionTreeRegressor"
   ]
  },
  {
   "cell_type": "code",
   "execution_count": 69,
   "id": "d767b5ff",
   "metadata": {},
   "outputs": [],
   "source": [
    "df=DecisionTreeRegressor(random_state=0)"
   ]
  },
  {
   "cell_type": "code",
   "execution_count": 70,
   "id": "da90465d",
   "metadata": {},
   "outputs": [
    {
     "data": {
      "text/plain": [
       "DecisionTreeRegressor(random_state=0)"
      ]
     },
     "execution_count": 70,
     "metadata": {},
     "output_type": "execute_result"
    }
   ],
   "source": [
    "df.fit(x,y)"
   ]
  },
  {
   "cell_type": "code",
   "execution_count": 71,
   "id": "b5208583",
   "metadata": {},
   "outputs": [
    {
     "data": {
      "text/plain": [
       "array([20000., 45000., 15000., 18700., 13600.])"
      ]
     },
     "execution_count": 71,
     "metadata": {},
     "output_type": "execute_result"
    }
   ],
   "source": [
    "df.predict(x)"
   ]
  },
  {
   "cell_type": "raw",
   "id": "12190581",
   "metadata": {},
   "source": [
    "# jupyter nbconvert 'Presentation Slides with Jupyter Notebook.ipynb' --to slides --post serve"
   ]
  },
  {
   "cell_type": "code",
   "execution_count": 72,
   "id": "54d56649",
   "metadata": {
    "scrolled": false
   },
   "outputs": [
    {
     "name": "stdout",
     "output_type": "stream",
     "text": [
      "        Location  Total Land Area (acres)  Number of Cows Farm Size  \\\n",
      "0      Telangana                   310.84              96    Medium   \n",
      "1  Uttar Pradesh                    19.19              44     Large   \n",
      "2     Tamil Nadu                   581.69              24    Medium   \n",
      "3      Telangana                   908.00              89     Small   \n",
      "4    Maharashtra                   861.95              21    Medium   \n",
      "\n",
      "         Date  Product ID Product Name                 Brand  \\\n",
      "0  2022-02-17           5    Ice Cream           Dodla Dairy   \n",
      "1  2021-12-01           1         Milk                  Amul   \n",
      "2  2022-02-28           4       Yogurt           Dodla Dairy   \n",
      "3  2019-06-09           3       Cheese  Britannia Industries   \n",
      "4  2020-12-14           8   Buttermilk          Mother Dairy   \n",
      "\n",
      "   Quantity (liters/kg)  Price per Unit  ...  Production Date  \\\n",
      "0                222.40           85.72  ...       2021-12-27   \n",
      "1                687.48           42.61  ...       2021-10-03   \n",
      "2                503.48           36.50  ...       2022-01-14   \n",
      "3                823.36           26.52  ...       2019-05-15   \n",
      "4                147.77           83.85  ...       2020-10-17   \n",
      "\n",
      "   Expiration Date Quantity Sold (liters/kg) Price per Unit (sold)  \\\n",
      "0       2022-01-21                         7                 82.24   \n",
      "1       2021-10-25                       558                 39.24   \n",
      "2       2022-02-13                       256                 33.81   \n",
      "3       2019-07-26                       601                 28.92   \n",
      "4       2020-10-28                       145                 83.07   \n",
      "\n",
      "  Approx. Total Revenue(INR)  Customer Location  Sales Channel  \\\n",
      "0                     575.68     Madhya Pradesh      Wholesale   \n",
      "1                   21895.92             Kerala      Wholesale   \n",
      "2                    8655.36     Madhya Pradesh         Online   \n",
      "3                   17380.92          Rajasthan         Online   \n",
      "4                   12045.15          Jharkhand         Retail   \n",
      "\n",
      "   Quantity in Stock (liters/kg) Minimum Stock Threshold (liters/kg)  \\\n",
      "0                            215                               19.55   \n",
      "1                            129                               43.17   \n",
      "2                            247                               15.10   \n",
      "3                            222                               74.50   \n",
      "4                              2                               76.02   \n",
      "\n",
      "  Reorder Quantity (liters/kg)  \n",
      "0                        64.03  \n",
      "1                       181.10  \n",
      "2                       140.83  \n",
      "3                        57.68  \n",
      "4                        33.40  \n",
      "\n",
      "[5 rows x 23 columns]\n",
      " \n",
      "\n",
      " \n",
      "\n",
      "Location                                Maharashtra\n",
      "Total Land Area (acres)                      861.95\n",
      "Number of Cows                                   21\n",
      "Farm Size                                    Medium\n",
      "Date                                     2020-12-14\n",
      "Product ID                                        8\n",
      "Product Name                             Buttermilk\n",
      "Brand                                  Mother Dairy\n",
      "Quantity (liters/kg)                         147.77\n",
      "Price per Unit                                83.85\n",
      "Total Value                              12390.5145\n",
      "Shelf Life (days)                                11\n",
      "Storage Condition                      Refrigerated\n",
      "Production Date                          2020-10-17\n",
      "Expiration Date                          2020-10-28\n",
      "Quantity Sold (liters/kg)                       145\n",
      "Price per Unit (sold)                         83.07\n",
      "Approx. Total Revenue(INR)                 12045.15\n",
      "Customer Location                         Jharkhand\n",
      "Sales Channel                                Retail\n",
      "Quantity in Stock (liters/kg)                     2\n",
      "Minimum Stock Threshold (liters/kg)           76.02\n",
      "Reorder Quantity (liters/kg)                   33.4\n",
      "Name: 4, dtype: object\n",
      " \n",
      "\n",
      " \n",
      "\n",
      "<class 'pandas.core.frame.DataFrame'>\n",
      "RangeIndex: 4325 entries, 0 to 4324\n",
      "Data columns (total 23 columns):\n",
      " #   Column                               Non-Null Count  Dtype  \n",
      "---  ------                               --------------  -----  \n",
      " 0   Location                             4325 non-null   object \n",
      " 1   Total Land Area (acres)              4325 non-null   float64\n",
      " 2   Number of Cows                       4325 non-null   int64  \n",
      " 3   Farm Size                            4325 non-null   object \n",
      " 4   Date                                 4325 non-null   object \n",
      " 5   Product ID                           4325 non-null   int64  \n",
      " 6   Product Name                         4325 non-null   object \n",
      " 7   Brand                                4325 non-null   object \n",
      " 8   Quantity (liters/kg)                 4325 non-null   float64\n",
      " 9   Price per Unit                       4325 non-null   float64\n",
      " 10  Total Value                          4325 non-null   float64\n",
      " 11  Shelf Life (days)                    4325 non-null   int64  \n",
      " 12  Storage Condition                    4325 non-null   object \n",
      " 13  Production Date                      4325 non-null   object \n",
      " 14  Expiration Date                      4325 non-null   object \n",
      " 15  Quantity Sold (liters/kg)            4325 non-null   int64  \n",
      " 16  Price per Unit (sold)                4325 non-null   float64\n",
      " 17  Approx. Total Revenue(INR)           4325 non-null   float64\n",
      " 18  Customer Location                    4325 non-null   object \n",
      " 19  Sales Channel                        4325 non-null   object \n",
      " 20  Quantity in Stock (liters/kg)        4325 non-null   int64  \n",
      " 21  Minimum Stock Threshold (liters/kg)  4325 non-null   float64\n",
      " 22  Reorder Quantity (liters/kg)         4325 non-null   float64\n",
      "dtypes: float64(8), int64(5), object(10)\n",
      "memory usage: 608.3+ KB\n",
      " \n",
      "\n",
      " \n",
      "\n",
      " \n",
      "\n",
      "Location      \n",
      "Delhi             525\n",
      "Chandigarh        519\n",
      "Uttar Pradesh     276\n",
      "Gujarat           267\n",
      "Karnataka         261\n",
      "Madhya Pradesh    259\n",
      "Rajasthan         256\n",
      "Maharashtra       255\n",
      "Haryana           253\n",
      "Kerala            249\n",
      "Jharkhand         248\n",
      "Telangana         248\n",
      "Bihar             245\n",
      "West Bengal       241\n",
      "Tamil Nadu        223\n",
      "dtype: int64\n",
      " \n",
      "\n",
      " \n",
      "\n",
      " \n",
      "\n",
      "     Location  Total Land Area (acres)  Number of Cows Farm Size        Date  \\\n",
      "12      Delhi                   236.72              81     Large  2020-02-18   \n",
      "31      Delhi                   509.17              41     Large  2020-03-27   \n",
      "41      Delhi                   778.16              42     Large  2019-12-11   \n",
      "53      Delhi                   672.52              32    Medium  2019-01-07   \n",
      "58      Delhi                   744.96              19    Medium  2021-02-07   \n",
      "...       ...                      ...             ...       ...         ...   \n",
      "4279    Delhi                   439.90              66     Small  2021-01-06   \n",
      "4285    Delhi                   471.28              58     Large  2021-08-19   \n",
      "4295    Delhi                    15.01              68    Medium  2020-03-04   \n",
      "4306    Delhi                   976.35              30    Medium  2021-05-23   \n",
      "4320    Delhi                   748.71              89    Medium  2022-02-24   \n",
      "\n",
      "      Product ID Product Name             Brand  Quantity (liters/kg)  \\\n",
      "12             3       Cheese    Passion Cheese                 12.39   \n",
      "31             2       Butter              Amul                985.95   \n",
      "41             7        Lassi               Raj                112.80   \n",
      "53             2       Butter              Amul                 30.69   \n",
      "58            10         Ghee      Mother Dairy                960.28   \n",
      "...          ...          ...               ...                   ...   \n",
      "4279           5    Ice Cream      Mother Dairy                261.86   \n",
      "4285           2       Butter  Parag Milk Foods                520.60   \n",
      "4295          10         Ghee              Amul                376.32   \n",
      "4306           7        Lassi              Amul                436.85   \n",
      "4320           6         Curd      Mother Dairy                554.90   \n",
      "\n",
      "      Price per Unit  ...  Production Date  Expiration Date  \\\n",
      "12             58.28  ...       2020-01-18       2020-03-27   \n",
      "31             92.69  ...       2020-02-21       2020-03-20   \n",
      "41             91.62  ...       2019-10-30       2019-11-12   \n",
      "53             89.80  ...       2018-11-28       2018-12-27   \n",
      "58             68.66  ...       2021-01-13       2021-05-30   \n",
      "...              ...  ...              ...              ...   \n",
      "4279           46.19  ...       2021-01-04       2021-01-28   \n",
      "4285           29.16  ...       2021-08-09       2021-09-08   \n",
      "4295           63.78  ...       2020-02-13       2020-04-27   \n",
      "4306           88.68  ...       2021-04-26       2021-05-12   \n",
      "4320           88.45  ...       2022-02-16       2022-02-21   \n",
      "\n",
      "     Quantity Sold (liters/kg) Price per Unit (sold)  \\\n",
      "12                           1                 58.09   \n",
      "31                          56                 96.86   \n",
      "41                         104                 93.93   \n",
      "53                          22                 92.23   \n",
      "58                         956                 69.79   \n",
      "...                        ...                   ...   \n",
      "4279                       240                 45.29   \n",
      "4285                       486                 27.19   \n",
      "4295                       143                 62.24   \n",
      "4306                       146                 84.05   \n",
      "4320                       352                 87.20   \n",
      "\n",
      "     Approx. Total Revenue(INR)  Customer Location  Sales Channel  \\\n",
      "12                        58.09        West Bengal         Retail   \n",
      "31                      5424.16          Rajasthan         Retail   \n",
      "41                      9768.72              Bihar         Retail   \n",
      "53                      2029.06      Uttar Pradesh         Retail   \n",
      "58                     66719.24         Tamil Nadu      Wholesale   \n",
      "...                         ...                ...            ...   \n",
      "4279                   10869.60        West Bengal         Online   \n",
      "4285                   13214.34          Telangana         Retail   \n",
      "4295                    8900.32         Tamil Nadu         Online   \n",
      "4306                   12271.30          Karnataka      Wholesale   \n",
      "4320                   30694.40      Uttar Pradesh         Online   \n",
      "\n",
      "      Quantity in Stock (liters/kg) Minimum Stock Threshold (liters/kg)  \\\n",
      "12                               11                               31.99   \n",
      "31                              929                               37.94   \n",
      "41                                8                               92.48   \n",
      "53                                8                               27.10   \n",
      "58                                4                               38.11   \n",
      "...                             ...                                 ...   \n",
      "4279                             21                               94.86   \n",
      "4285                             34                               58.77   \n",
      "4295                            233                               82.97   \n",
      "4306                            290                               70.41   \n",
      "4320                            202                               98.07   \n",
      "\n",
      "     Reorder Quantity (liters/kg)  \n",
      "12                          69.19  \n",
      "31                         187.73  \n",
      "41                         104.82  \n",
      "53                          22.11  \n",
      "58                         199.68  \n",
      "...                           ...  \n",
      "4279                        32.24  \n",
      "4285                       100.44  \n",
      "4295                        79.55  \n",
      "4306                        85.84  \n",
      "4320                        33.53  \n",
      "\n",
      "[525 rows x 23 columns]\n",
      "   Location  Total Land Area (acres)  Number of Cows Farm Size        Date  \\\n",
      "12    Delhi                   236.72              81     Large  2020-02-18   \n",
      "31    Delhi                   509.17              41     Large  2020-03-27   \n",
      "41    Delhi                   778.16              42     Large  2019-12-11   \n",
      "53    Delhi                   672.52              32    Medium  2019-01-07   \n",
      "58    Delhi                   744.96              19    Medium  2021-02-07   \n",
      "\n",
      "    Product ID Product Name           Brand  Quantity (liters/kg)  \\\n",
      "12           3       Cheese  Passion Cheese                 12.39   \n",
      "31           2       Butter            Amul                985.95   \n",
      "41           7        Lassi             Raj                112.80   \n",
      "53           2       Butter            Amul                 30.69   \n",
      "58          10         Ghee    Mother Dairy                960.28   \n",
      "\n",
      "    Price per Unit  ...  Production Date  Expiration Date  \\\n",
      "12           58.28  ...       2020-01-18       2020-03-27   \n",
      "31           92.69  ...       2020-02-21       2020-03-20   \n",
      "41           91.62  ...       2019-10-30       2019-11-12   \n",
      "53           89.80  ...       2018-11-28       2018-12-27   \n",
      "58           68.66  ...       2021-01-13       2021-05-30   \n",
      "\n",
      "   Quantity Sold (liters/kg) Price per Unit (sold) Approx. Total Revenue(INR)  \\\n",
      "12                         1                 58.09                      58.09   \n",
      "31                        56                 96.86                    5424.16   \n",
      "41                       104                 93.93                    9768.72   \n",
      "53                        22                 92.23                    2029.06   \n",
      "58                       956                 69.79                   66719.24   \n",
      "\n",
      "    Customer Location  Sales Channel  Quantity in Stock (liters/kg)  \\\n",
      "12        West Bengal         Retail                             11   \n",
      "31          Rajasthan         Retail                            929   \n",
      "41              Bihar         Retail                              8   \n",
      "53      Uttar Pradesh         Retail                              8   \n",
      "58         Tamil Nadu      Wholesale                              4   \n",
      "\n",
      "   Minimum Stock Threshold (liters/kg) Reorder Quantity (liters/kg)  \n",
      "12                               31.99                        69.19  \n",
      "31                               37.94                       187.73  \n",
      "41                               92.48                       104.82  \n",
      "53                               27.10                        22.11  \n",
      "58                               38.11                       199.68  \n",
      "\n",
      "[5 rows x 23 columns]\n",
      " \n",
      "\n",
      " \n",
      "\n",
      " \n",
      "\n",
      "Location                                      Delhi\n",
      "Total Land Area (acres)                      509.17\n",
      "Number of Cows                                   41\n",
      "Farm Size                                     Large\n",
      "Date                                     2020-03-27\n",
      "Product ID                                        2\n",
      "Product Name                                 Butter\n",
      "Brand                                          Amul\n",
      "Quantity (liters/kg)                         985.95\n",
      "Price per Unit                                92.69\n",
      "Total Value                              91387.7055\n",
      "Shelf Life (days)                                28\n",
      "Storage Condition                      Refrigerated\n",
      "Production Date                          2020-02-21\n",
      "Expiration Date                          2020-03-20\n",
      "Quantity Sold (liters/kg)                        56\n",
      "Price per Unit (sold)                         96.86\n",
      "Approx. Total Revenue(INR)                  5424.16\n",
      "Customer Location                         Rajasthan\n",
      "Sales Channel                                Retail\n",
      "Quantity in Stock (liters/kg)                   929\n",
      "Minimum Stock Threshold (liters/kg)           37.94\n",
      "Reorder Quantity (liters/kg)                 187.73\n",
      "Name: 31, dtype: object\n",
      " \n",
      "\n",
      " \n",
      "\n",
      " \n",
      "\n",
      " \n",
      "\n",
      "Location              Maharashtra\n",
      "Product Name           Buttermilk\n",
      "Brand                Mother Dairy\n",
      "Price per Unit              83.85\n",
      "Total Value            12390.5145\n",
      "Shelf Life (days)              11\n",
      "Storage Condition    Refrigerated\n",
      "Name: 4, dtype: object\n",
      " \n",
      "\n"
     ]
    }
   ],
   "source": [
    "# coding: utf-8\n",
    "import pandas as pd \n",
    "import statistics as scs \n",
    "data=pd.read_csv(\"dairy_dataset.csv\") \n",
    "data \n",
    "print(data.head())\n",
    "print(\" \\n\")\n",
    "print(\" \\n\")\n",
    "print(data.loc[4] )\n",
    "print(\" \\n\")\n",
    "print(\" \\n\")\n",
    "data.columns \n",
    "data.info() \n",
    "data.isnull() \n",
    "data.isnull().loc[4] \n",
    "data.isnull()\n",
    "data.isnull().loc[2000] \n",
    "data.loc[2000] \n",
    "data[[\"Location\",\"Product Name\",\"Price per Unit\"]] \n",
    "Unique_Location = data[[\"Location\"]].value_counts() \n",
    "print(\" \\n\")\n",
    "print(\" \\n\")\n",
    "print(\" \\n\")\n",
    "print(Unique_Location) \n",
    "print(\" \\n\")\n",
    "print(\" \\n\")\n",
    "print(\" \\n\")\n",
    "Delhi_farm=data[data[\"Location\"]==\"Delhi\"] \n",
    "print(Delhi_farm )\n",
    "print(Delhi_farm.head() )\n",
    "print(\" \\n\")\n",
    "print(\" \\n\")\n",
    "print(\" \\n\")\n",
    "print(Delhi_farm.loc[31] )\n",
    "print(\" \\n\")\n",
    "print(\" \\n\")\n",
    "print(\" \\n\")\n",
    "print(\" \\n\")\n",
    "improved_data=data[[\"Location\",\"Product Name\",\"Brand\",\"Price per Unit\",\"Total Value\",\"Shelf Life (days)\",\"Storage Condition\"]] \n",
    "improved_data \n",
    "print(improved_data.loc[4] )\n",
    "print(\" \\n\")"
   ]
  },
  {
   "cell_type": "code",
   "execution_count": 73,
   "id": "21c20537",
   "metadata": {
    "scrolled": true
   },
   "outputs": [
    {
     "data": {
      "text/html": [
       "<div>\n",
       "<style scoped>\n",
       "    .dataframe tbody tr th:only-of-type {\n",
       "        vertical-align: middle;\n",
       "    }\n",
       "\n",
       "    .dataframe tbody tr th {\n",
       "        vertical-align: top;\n",
       "    }\n",
       "\n",
       "    .dataframe thead th {\n",
       "        text-align: right;\n",
       "    }\n",
       "</style>\n",
       "<table border=\"1\" class=\"dataframe\">\n",
       "  <thead>\n",
       "    <tr style=\"text-align: right;\">\n",
       "      <th></th>\n",
       "      <th>Location</th>\n",
       "      <th>Total Land Area (acres)</th>\n",
       "      <th>Number of Cows</th>\n",
       "      <th>Farm Size</th>\n",
       "      <th>Date</th>\n",
       "      <th>Product ID</th>\n",
       "      <th>Product Name</th>\n",
       "      <th>Brand</th>\n",
       "      <th>Quantity (liters/kg)</th>\n",
       "      <th>Price per Unit</th>\n",
       "      <th>...</th>\n",
       "      <th>Production Date</th>\n",
       "      <th>Expiration Date</th>\n",
       "      <th>Quantity Sold (liters/kg)</th>\n",
       "      <th>Price per Unit (sold)</th>\n",
       "      <th>Approx. Total Revenue(INR)</th>\n",
       "      <th>Customer Location</th>\n",
       "      <th>Sales Channel</th>\n",
       "      <th>Quantity in Stock (liters/kg)</th>\n",
       "      <th>Minimum Stock Threshold (liters/kg)</th>\n",
       "      <th>Reorder Quantity (liters/kg)</th>\n",
       "    </tr>\n",
       "  </thead>\n",
       "  <tbody>\n",
       "    <tr>\n",
       "      <th>0</th>\n",
       "      <td>Telangana</td>\n",
       "      <td>310.84</td>\n",
       "      <td>96</td>\n",
       "      <td>Medium</td>\n",
       "      <td>2022-02-17</td>\n",
       "      <td>5</td>\n",
       "      <td>Ice Cream</td>\n",
       "      <td>Dodla Dairy</td>\n",
       "      <td>222.40</td>\n",
       "      <td>85.72</td>\n",
       "      <td>...</td>\n",
       "      <td>2021-12-27</td>\n",
       "      <td>2022-01-21</td>\n",
       "      <td>7</td>\n",
       "      <td>82.24</td>\n",
       "      <td>575.68</td>\n",
       "      <td>Madhya Pradesh</td>\n",
       "      <td>Wholesale</td>\n",
       "      <td>215</td>\n",
       "      <td>19.55</td>\n",
       "      <td>64.03</td>\n",
       "    </tr>\n",
       "    <tr>\n",
       "      <th>1</th>\n",
       "      <td>Uttar Pradesh</td>\n",
       "      <td>19.19</td>\n",
       "      <td>44</td>\n",
       "      <td>Large</td>\n",
       "      <td>2021-12-01</td>\n",
       "      <td>1</td>\n",
       "      <td>Milk</td>\n",
       "      <td>Amul</td>\n",
       "      <td>687.48</td>\n",
       "      <td>42.61</td>\n",
       "      <td>...</td>\n",
       "      <td>2021-10-03</td>\n",
       "      <td>2021-10-25</td>\n",
       "      <td>558</td>\n",
       "      <td>39.24</td>\n",
       "      <td>21895.92</td>\n",
       "      <td>Kerala</td>\n",
       "      <td>Wholesale</td>\n",
       "      <td>129</td>\n",
       "      <td>43.17</td>\n",
       "      <td>181.10</td>\n",
       "    </tr>\n",
       "    <tr>\n",
       "      <th>2</th>\n",
       "      <td>Tamil Nadu</td>\n",
       "      <td>581.69</td>\n",
       "      <td>24</td>\n",
       "      <td>Medium</td>\n",
       "      <td>2022-02-28</td>\n",
       "      <td>4</td>\n",
       "      <td>Yogurt</td>\n",
       "      <td>Dodla Dairy</td>\n",
       "      <td>503.48</td>\n",
       "      <td>36.50</td>\n",
       "      <td>...</td>\n",
       "      <td>2022-01-14</td>\n",
       "      <td>2022-02-13</td>\n",
       "      <td>256</td>\n",
       "      <td>33.81</td>\n",
       "      <td>8655.36</td>\n",
       "      <td>Madhya Pradesh</td>\n",
       "      <td>Online</td>\n",
       "      <td>247</td>\n",
       "      <td>15.10</td>\n",
       "      <td>140.83</td>\n",
       "    </tr>\n",
       "    <tr>\n",
       "      <th>3</th>\n",
       "      <td>Telangana</td>\n",
       "      <td>908.00</td>\n",
       "      <td>89</td>\n",
       "      <td>Small</td>\n",
       "      <td>2019-06-09</td>\n",
       "      <td>3</td>\n",
       "      <td>Cheese</td>\n",
       "      <td>Britannia Industries</td>\n",
       "      <td>823.36</td>\n",
       "      <td>26.52</td>\n",
       "      <td>...</td>\n",
       "      <td>2019-05-15</td>\n",
       "      <td>2019-07-26</td>\n",
       "      <td>601</td>\n",
       "      <td>28.92</td>\n",
       "      <td>17380.92</td>\n",
       "      <td>Rajasthan</td>\n",
       "      <td>Online</td>\n",
       "      <td>222</td>\n",
       "      <td>74.50</td>\n",
       "      <td>57.68</td>\n",
       "    </tr>\n",
       "    <tr>\n",
       "      <th>4</th>\n",
       "      <td>Maharashtra</td>\n",
       "      <td>861.95</td>\n",
       "      <td>21</td>\n",
       "      <td>Medium</td>\n",
       "      <td>2020-12-14</td>\n",
       "      <td>8</td>\n",
       "      <td>Buttermilk</td>\n",
       "      <td>Mother Dairy</td>\n",
       "      <td>147.77</td>\n",
       "      <td>83.85</td>\n",
       "      <td>...</td>\n",
       "      <td>2020-10-17</td>\n",
       "      <td>2020-10-28</td>\n",
       "      <td>145</td>\n",
       "      <td>83.07</td>\n",
       "      <td>12045.15</td>\n",
       "      <td>Jharkhand</td>\n",
       "      <td>Retail</td>\n",
       "      <td>2</td>\n",
       "      <td>76.02</td>\n",
       "      <td>33.40</td>\n",
       "    </tr>\n",
       "    <tr>\n",
       "      <th>...</th>\n",
       "      <td>...</td>\n",
       "      <td>...</td>\n",
       "      <td>...</td>\n",
       "      <td>...</td>\n",
       "      <td>...</td>\n",
       "      <td>...</td>\n",
       "      <td>...</td>\n",
       "      <td>...</td>\n",
       "      <td>...</td>\n",
       "      <td>...</td>\n",
       "      <td>...</td>\n",
       "      <td>...</td>\n",
       "      <td>...</td>\n",
       "      <td>...</td>\n",
       "      <td>...</td>\n",
       "      <td>...</td>\n",
       "      <td>...</td>\n",
       "      <td>...</td>\n",
       "      <td>...</td>\n",
       "      <td>...</td>\n",
       "      <td>...</td>\n",
       "    </tr>\n",
       "    <tr>\n",
       "      <th>4320</th>\n",
       "      <td>Delhi</td>\n",
       "      <td>748.71</td>\n",
       "      <td>89</td>\n",
       "      <td>Medium</td>\n",
       "      <td>2022-02-24</td>\n",
       "      <td>6</td>\n",
       "      <td>Curd</td>\n",
       "      <td>Mother Dairy</td>\n",
       "      <td>554.90</td>\n",
       "      <td>88.45</td>\n",
       "      <td>...</td>\n",
       "      <td>2022-02-16</td>\n",
       "      <td>2022-02-21</td>\n",
       "      <td>352</td>\n",
       "      <td>87.20</td>\n",
       "      <td>30694.40</td>\n",
       "      <td>Uttar Pradesh</td>\n",
       "      <td>Online</td>\n",
       "      <td>202</td>\n",
       "      <td>98.07</td>\n",
       "      <td>33.53</td>\n",
       "    </tr>\n",
       "    <tr>\n",
       "      <th>4321</th>\n",
       "      <td>Jharkhand</td>\n",
       "      <td>385.91</td>\n",
       "      <td>29</td>\n",
       "      <td>Large</td>\n",
       "      <td>2022-05-14</td>\n",
       "      <td>4</td>\n",
       "      <td>Yogurt</td>\n",
       "      <td>Palle2patnam</td>\n",
       "      <td>818.33</td>\n",
       "      <td>55.35</td>\n",
       "      <td>...</td>\n",
       "      <td>2022-03-22</td>\n",
       "      <td>2022-04-14</td>\n",
       "      <td>68</td>\n",
       "      <td>58.39</td>\n",
       "      <td>3970.52</td>\n",
       "      <td>Kerala</td>\n",
       "      <td>Retail</td>\n",
       "      <td>750</td>\n",
       "      <td>87.41</td>\n",
       "      <td>114.37</td>\n",
       "    </tr>\n",
       "    <tr>\n",
       "      <th>4322</th>\n",
       "      <td>Chandigarh</td>\n",
       "      <td>311.54</td>\n",
       "      <td>65</td>\n",
       "      <td>Small</td>\n",
       "      <td>2020-01-05</td>\n",
       "      <td>6</td>\n",
       "      <td>Curd</td>\n",
       "      <td>Mother Dairy</td>\n",
       "      <td>583.56</td>\n",
       "      <td>92.61</td>\n",
       "      <td>...</td>\n",
       "      <td>2020-01-04</td>\n",
       "      <td>2020-01-11</td>\n",
       "      <td>141</td>\n",
       "      <td>89.46</td>\n",
       "      <td>12613.86</td>\n",
       "      <td>Haryana</td>\n",
       "      <td>Retail</td>\n",
       "      <td>442</td>\n",
       "      <td>33.47</td>\n",
       "      <td>153.66</td>\n",
       "    </tr>\n",
       "    <tr>\n",
       "      <th>4323</th>\n",
       "      <td>Maharashtra</td>\n",
       "      <td>890.55</td>\n",
       "      <td>90</td>\n",
       "      <td>Small</td>\n",
       "      <td>2022-10-25</td>\n",
       "      <td>6</td>\n",
       "      <td>Curd</td>\n",
       "      <td>Raj</td>\n",
       "      <td>3.10</td>\n",
       "      <td>15.30</td>\n",
       "      <td>...</td>\n",
       "      <td>2022-10-02</td>\n",
       "      <td>2022-10-09</td>\n",
       "      <td>2</td>\n",
       "      <td>10.56</td>\n",
       "      <td>21.12</td>\n",
       "      <td>Jharkhand</td>\n",
       "      <td>Wholesale</td>\n",
       "      <td>1</td>\n",
       "      <td>58.25</td>\n",
       "      <td>160.84</td>\n",
       "    </tr>\n",
       "    <tr>\n",
       "      <th>4324</th>\n",
       "      <td>Rajasthan</td>\n",
       "      <td>492.86</td>\n",
       "      <td>58</td>\n",
       "      <td>Large</td>\n",
       "      <td>2019-01-20</td>\n",
       "      <td>1</td>\n",
       "      <td>Milk</td>\n",
       "      <td>Mother Dairy</td>\n",
       "      <td>820.50</td>\n",
       "      <td>49.31</td>\n",
       "      <td>...</td>\n",
       "      <td>2019-01-06</td>\n",
       "      <td>2019-01-07</td>\n",
       "      <td>417</td>\n",
       "      <td>44.55</td>\n",
       "      <td>18577.35</td>\n",
       "      <td>Madhya Pradesh</td>\n",
       "      <td>Online</td>\n",
       "      <td>403</td>\n",
       "      <td>22.34</td>\n",
       "      <td>189.63</td>\n",
       "    </tr>\n",
       "  </tbody>\n",
       "</table>\n",
       "<p>4325 rows × 23 columns</p>\n",
       "</div>"
      ],
      "text/plain": [
       "           Location  Total Land Area (acres)  Number of Cows Farm Size  \\\n",
       "0         Telangana                   310.84              96    Medium   \n",
       "1     Uttar Pradesh                    19.19              44     Large   \n",
       "2        Tamil Nadu                   581.69              24    Medium   \n",
       "3         Telangana                   908.00              89     Small   \n",
       "4       Maharashtra                   861.95              21    Medium   \n",
       "...             ...                      ...             ...       ...   \n",
       "4320          Delhi                   748.71              89    Medium   \n",
       "4321      Jharkhand                   385.91              29     Large   \n",
       "4322     Chandigarh                   311.54              65     Small   \n",
       "4323    Maharashtra                   890.55              90     Small   \n",
       "4324      Rajasthan                   492.86              58     Large   \n",
       "\n",
       "            Date  Product ID Product Name                 Brand  \\\n",
       "0     2022-02-17           5    Ice Cream           Dodla Dairy   \n",
       "1     2021-12-01           1         Milk                  Amul   \n",
       "2     2022-02-28           4       Yogurt           Dodla Dairy   \n",
       "3     2019-06-09           3       Cheese  Britannia Industries   \n",
       "4     2020-12-14           8   Buttermilk          Mother Dairy   \n",
       "...          ...         ...          ...                   ...   \n",
       "4320  2022-02-24           6         Curd          Mother Dairy   \n",
       "4321  2022-05-14           4       Yogurt          Palle2patnam   \n",
       "4322  2020-01-05           6         Curd          Mother Dairy   \n",
       "4323  2022-10-25           6         Curd                   Raj   \n",
       "4324  2019-01-20           1         Milk          Mother Dairy   \n",
       "\n",
       "      Quantity (liters/kg)  Price per Unit  ...  Production Date  \\\n",
       "0                   222.40           85.72  ...       2021-12-27   \n",
       "1                   687.48           42.61  ...       2021-10-03   \n",
       "2                   503.48           36.50  ...       2022-01-14   \n",
       "3                   823.36           26.52  ...       2019-05-15   \n",
       "4                   147.77           83.85  ...       2020-10-17   \n",
       "...                    ...             ...  ...              ...   \n",
       "4320                554.90           88.45  ...       2022-02-16   \n",
       "4321                818.33           55.35  ...       2022-03-22   \n",
       "4322                583.56           92.61  ...       2020-01-04   \n",
       "4323                  3.10           15.30  ...       2022-10-02   \n",
       "4324                820.50           49.31  ...       2019-01-06   \n",
       "\n",
       "      Expiration Date Quantity Sold (liters/kg) Price per Unit (sold)  \\\n",
       "0          2022-01-21                         7                 82.24   \n",
       "1          2021-10-25                       558                 39.24   \n",
       "2          2022-02-13                       256                 33.81   \n",
       "3          2019-07-26                       601                 28.92   \n",
       "4          2020-10-28                       145                 83.07   \n",
       "...               ...                       ...                   ...   \n",
       "4320       2022-02-21                       352                 87.20   \n",
       "4321       2022-04-14                        68                 58.39   \n",
       "4322       2020-01-11                       141                 89.46   \n",
       "4323       2022-10-09                         2                 10.56   \n",
       "4324       2019-01-07                       417                 44.55   \n",
       "\n",
       "     Approx. Total Revenue(INR)  Customer Location  Sales Channel  \\\n",
       "0                        575.68     Madhya Pradesh      Wholesale   \n",
       "1                      21895.92             Kerala      Wholesale   \n",
       "2                       8655.36     Madhya Pradesh         Online   \n",
       "3                      17380.92          Rajasthan         Online   \n",
       "4                      12045.15          Jharkhand         Retail   \n",
       "...                         ...                ...            ...   \n",
       "4320                   30694.40      Uttar Pradesh         Online   \n",
       "4321                    3970.52             Kerala         Retail   \n",
       "4322                   12613.86            Haryana         Retail   \n",
       "4323                      21.12          Jharkhand      Wholesale   \n",
       "4324                   18577.35     Madhya Pradesh         Online   \n",
       "\n",
       "      Quantity in Stock (liters/kg) Minimum Stock Threshold (liters/kg)  \\\n",
       "0                               215                               19.55   \n",
       "1                               129                               43.17   \n",
       "2                               247                               15.10   \n",
       "3                               222                               74.50   \n",
       "4                                 2                               76.02   \n",
       "...                             ...                                 ...   \n",
       "4320                            202                               98.07   \n",
       "4321                            750                               87.41   \n",
       "4322                            442                               33.47   \n",
       "4323                              1                               58.25   \n",
       "4324                            403                               22.34   \n",
       "\n",
       "     Reorder Quantity (liters/kg)  \n",
       "0                           64.03  \n",
       "1                          181.10  \n",
       "2                          140.83  \n",
       "3                           57.68  \n",
       "4                           33.40  \n",
       "...                           ...  \n",
       "4320                        33.53  \n",
       "4321                       114.37  \n",
       "4322                       153.66  \n",
       "4323                       160.84  \n",
       "4324                       189.63  \n",
       "\n",
       "[4325 rows x 23 columns]"
      ]
     },
     "execution_count": 73,
     "metadata": {},
     "output_type": "execute_result"
    }
   ],
   "source": [
    "data"
   ]
  },
  {
   "cell_type": "code",
   "execution_count": 74,
   "id": "033f9598",
   "metadata": {},
   "outputs": [],
   "source": [
    "from sklearn import datasets,linear_model"
   ]
  },
  {
   "cell_type": "code",
   "execution_count": 75,
   "id": "067f5afb",
   "metadata": {},
   "outputs": [],
   "source": [
    "from sklearn.metrics import mean_squared_error"
   ]
  },
  {
   "cell_type": "code",
   "execution_count": 76,
   "id": "a8013cb7",
   "metadata": {},
   "outputs": [],
   "source": [
    "disease= datasets.load_diabetes()"
   ]
  },
  {
   "cell_type": "code",
   "execution_count": 77,
   "id": "858fe32a",
   "metadata": {
    "scrolled": false
   },
   "outputs": [
    {
     "data": {
      "text/plain": [
       "{'data': array([[ 0.03807591,  0.05068012,  0.06169621, ..., -0.00259226,\n",
       "          0.01990842, -0.01764613],\n",
       "        [-0.00188202, -0.04464164, -0.05147406, ..., -0.03949338,\n",
       "         -0.06832974, -0.09220405],\n",
       "        [ 0.08529891,  0.05068012,  0.04445121, ..., -0.00259226,\n",
       "          0.00286377, -0.02593034],\n",
       "        ...,\n",
       "        [ 0.04170844,  0.05068012, -0.01590626, ..., -0.01107952,\n",
       "         -0.04687948,  0.01549073],\n",
       "        [-0.04547248, -0.04464164,  0.03906215, ...,  0.02655962,\n",
       "          0.04452837, -0.02593034],\n",
       "        [-0.04547248, -0.04464164, -0.0730303 , ..., -0.03949338,\n",
       "         -0.00421986,  0.00306441]]),\n",
       " 'target': array([151.,  75., 141., 206., 135.,  97., 138.,  63., 110., 310., 101.,\n",
       "         69., 179., 185., 118., 171., 166., 144.,  97., 168.,  68.,  49.,\n",
       "         68., 245., 184., 202., 137.,  85., 131., 283., 129.,  59., 341.,\n",
       "         87.,  65., 102., 265., 276., 252.,  90., 100.,  55.,  61.,  92.,\n",
       "        259.,  53., 190., 142.,  75., 142., 155., 225.,  59., 104., 182.,\n",
       "        128.,  52.,  37., 170., 170.,  61., 144.,  52., 128.,  71., 163.,\n",
       "        150.,  97., 160., 178.,  48., 270., 202., 111.,  85.,  42., 170.,\n",
       "        200., 252., 113., 143.,  51.,  52., 210.,  65., 141.,  55., 134.,\n",
       "         42., 111.,  98., 164.,  48.,  96.,  90., 162., 150., 279.,  92.,\n",
       "         83., 128., 102., 302., 198.,  95.,  53., 134., 144., 232.,  81.,\n",
       "        104.,  59., 246., 297., 258., 229., 275., 281., 179., 200., 200.,\n",
       "        173., 180.,  84., 121., 161.,  99., 109., 115., 268., 274., 158.,\n",
       "        107.,  83., 103., 272.,  85., 280., 336., 281., 118., 317., 235.,\n",
       "         60., 174., 259., 178., 128.,  96., 126., 288.,  88., 292.,  71.,\n",
       "        197., 186.,  25.,  84.,  96., 195.,  53., 217., 172., 131., 214.,\n",
       "         59.,  70., 220., 268., 152.,  47.,  74., 295., 101., 151., 127.,\n",
       "        237., 225.,  81., 151., 107.,  64., 138., 185., 265., 101., 137.,\n",
       "        143., 141.,  79., 292., 178.,  91., 116.,  86., 122.,  72., 129.,\n",
       "        142.,  90., 158.,  39., 196., 222., 277.,  99., 196., 202., 155.,\n",
       "         77., 191.,  70.,  73.,  49.,  65., 263., 248., 296., 214., 185.,\n",
       "         78.,  93., 252., 150.,  77., 208.,  77., 108., 160.,  53., 220.,\n",
       "        154., 259.,  90., 246., 124.,  67.,  72., 257., 262., 275., 177.,\n",
       "         71.,  47., 187., 125.,  78.,  51., 258., 215., 303., 243.,  91.,\n",
       "        150., 310., 153., 346.,  63.,  89.,  50.,  39., 103., 308., 116.,\n",
       "        145.,  74.,  45., 115., 264.,  87., 202., 127., 182., 241.,  66.,\n",
       "         94., 283.,  64., 102., 200., 265.,  94., 230., 181., 156., 233.,\n",
       "         60., 219.,  80.,  68., 332., 248.,  84., 200.,  55.,  85.,  89.,\n",
       "         31., 129.,  83., 275.,  65., 198., 236., 253., 124.,  44., 172.,\n",
       "        114., 142., 109., 180., 144., 163., 147.,  97., 220., 190., 109.,\n",
       "        191., 122., 230., 242., 248., 249., 192., 131., 237.,  78., 135.,\n",
       "        244., 199., 270., 164.,  72.,  96., 306.,  91., 214.,  95., 216.,\n",
       "        263., 178., 113., 200., 139., 139.,  88., 148.,  88., 243.,  71.,\n",
       "         77., 109., 272.,  60.,  54., 221.,  90., 311., 281., 182., 321.,\n",
       "         58., 262., 206., 233., 242., 123., 167.,  63., 197.,  71., 168.,\n",
       "        140., 217., 121., 235., 245.,  40.,  52., 104., 132.,  88.,  69.,\n",
       "        219.,  72., 201., 110.,  51., 277.,  63., 118.,  69., 273., 258.,\n",
       "         43., 198., 242., 232., 175.,  93., 168., 275., 293., 281.,  72.,\n",
       "        140., 189., 181., 209., 136., 261., 113., 131., 174., 257.,  55.,\n",
       "         84.,  42., 146., 212., 233.,  91., 111., 152., 120.,  67., 310.,\n",
       "         94., 183.,  66., 173.,  72.,  49.,  64.,  48., 178., 104., 132.,\n",
       "        220.,  57.]),\n",
       " 'frame': None,\n",
       " 'DESCR': '.. _diabetes_dataset:\\n\\nDiabetes dataset\\n----------------\\n\\nTen baseline variables, age, sex, body mass index, average blood\\npressure, and six blood serum measurements were obtained for each of n =\\n442 diabetes patients, as well as the response of interest, a\\nquantitative measure of disease progression one year after baseline.\\n\\n**Data Set Characteristics:**\\n\\n  :Number of Instances: 442\\n\\n  :Number of Attributes: First 10 columns are numeric predictive values\\n\\n  :Target: Column 11 is a quantitative measure of disease progression one year after baseline\\n\\n  :Attribute Information:\\n      - age     age in years\\n      - sex\\n      - bmi     body mass index\\n      - bp      average blood pressure\\n      - s1      tc, total serum cholesterol\\n      - s2      ldl, low-density lipoproteins\\n      - s3      hdl, high-density lipoproteins\\n      - s4      tch, total cholesterol / HDL\\n      - s5      ltg, possibly log of serum triglycerides level\\n      - s6      glu, blood sugar level\\n\\nNote: Each of these 10 feature variables have been mean centered and scaled by the standard deviation times `n_samples` (i.e. the sum of squares of each column totals 1).\\n\\nSource URL:\\nhttps://www4.stat.ncsu.edu/~boos/var.select/diabetes.html\\n\\nFor more information see:\\nBradley Efron, Trevor Hastie, Iain Johnstone and Robert Tibshirani (2004) \"Least Angle Regression,\" Annals of Statistics (with discussion), 407-499.\\n(https://web.stanford.edu/~hastie/Papers/LARS/LeastAngle_2002.pdf)',\n",
       " 'feature_names': ['age',\n",
       "  'sex',\n",
       "  'bmi',\n",
       "  'bp',\n",
       "  's1',\n",
       "  's2',\n",
       "  's3',\n",
       "  's4',\n",
       "  's5',\n",
       "  's6'],\n",
       " 'data_filename': 'diabetes_data.csv.gz',\n",
       " 'target_filename': 'diabetes_target.csv.gz',\n",
       " 'data_module': 'sklearn.datasets.data'}"
      ]
     },
     "execution_count": 77,
     "metadata": {},
     "output_type": "execute_result"
    }
   ],
   "source": [
    "disease \n"
   ]
  },
  {
   "cell_type": "code",
   "execution_count": 83,
   "id": "35ba5914",
   "metadata": {},
   "outputs": [],
   "source": [
    "disease_x=disease.data[:,np.newaxis,2]\n",
    "disease_x_train=disease_x[:-30]\n",
    "disease_x_test=disease_x[-20:]\n",
    "#splitting data\n",
    "disease_y_train=disease.target[:-30]\n",
    "disease_y_test=disease.target[-20:]"
   ]
  },
  {
   "cell_type": "code",
   "execution_count": 84,
   "id": "58322771",
   "metadata": {},
   "outputs": [
    {
     "data": {
      "text/plain": [
       "(412, 1)"
      ]
     },
     "execution_count": 84,
     "metadata": {},
     "output_type": "execute_result"
    }
   ],
   "source": [
    "disease_x_train.shape"
   ]
  },
  {
   "cell_type": "code",
   "execution_count": 85,
   "id": "d06db9d3",
   "metadata": {},
   "outputs": [
    {
     "data": {
      "text/plain": [
       "(442, 1)"
      ]
     },
     "execution_count": 85,
     "metadata": {},
     "output_type": "execute_result"
    }
   ],
   "source": [
    "disease_x.shape"
   ]
  },
  {
   "cell_type": "code",
   "execution_count": 81,
   "id": "6dd861f1",
   "metadata": {},
   "outputs": [
    {
     "data": {
      "text/plain": [
       "(20, 10)"
      ]
     },
     "execution_count": 81,
     "metadata": {},
     "output_type": "execute_result"
    }
   ],
   "source": [
    "disease_x_test.shape"
   ]
  },
  {
   "cell_type": "code",
   "execution_count": 86,
   "id": "fb150d3b",
   "metadata": {},
   "outputs": [
    {
     "data": {
      "text/plain": [
       "LinearRegression()"
      ]
     },
     "execution_count": 86,
     "metadata": {},
     "output_type": "execute_result"
    }
   ],
   "source": [
    "reg=linear_model.LinearRegression()\n",
    "reg.fit(disease_x_train, disease_y_train)"
   ]
  },
  {
   "cell_type": "code",
   "execution_count": 87,
   "id": "e0796c54",
   "metadata": {},
   "outputs": [],
   "source": [
    "y_predict=reg.predict(disease_x_test)\n",
    "accuracy=mean_squared_error(disease_y_test,y_predict)"
   ]
  },
  {
   "cell_type": "code",
   "execution_count": 88,
   "id": "8996814b",
   "metadata": {},
   "outputs": [
    {
     "data": {
      "text/plain": [
       "2561.3204277283867"
      ]
     },
     "execution_count": 88,
     "metadata": {},
     "output_type": "execute_result"
    }
   ],
   "source": [
    "accuracy"
   ]
  },
  {
   "cell_type": "code",
   "execution_count": 89,
   "id": "3df00ec6",
   "metadata": {},
   "outputs": [
    {
     "name": "stdout",
     "output_type": "stream",
     "text": [
      "[941.43097333]\n",
      "153.39713623331698\n"
     ]
    }
   ],
   "source": [
    "weights=reg.coef_\n",
    "intercept=reg.intercept_\n",
    "print(weights)\n",
    "print(intercept)"
   ]
  },
  {
   "cell_type": "code",
   "execution_count": 90,
   "id": "3f7f5d58",
   "metadata": {},
   "outputs": [
    {
     "data": {
      "text/plain": [
       "array([941.43097333])"
      ]
     },
     "execution_count": 90,
     "metadata": {},
     "output_type": "execute_result"
    }
   ],
   "source": [
    "weights"
   ]
  },
  {
   "cell_type": "code",
   "execution_count": 91,
   "id": "d363a0d5",
   "metadata": {},
   "outputs": [
    {
     "data": {
      "text/plain": [
       "153.39713623331698"
      ]
     },
     "execution_count": 91,
     "metadata": {},
     "output_type": "execute_result"
    }
   ],
   "source": [
    "intercept"
   ]
  },
  {
   "cell_type": "code",
   "execution_count": 92,
   "id": "7ff6a032",
   "metadata": {},
   "outputs": [],
   "source": [
    "import matplotlib.pyplot as plt\n",
    "%matplotlib inline"
   ]
  },
  {
   "cell_type": "code",
   "execution_count": 95,
   "id": "a6e6e76e",
   "metadata": {},
   "outputs": [
    {
     "data": {
      "image/png": "[encoded data removed]",
      "text/plain": [
       "<Figure size 640x480 with 1 Axes>"
      ]
     },
     "metadata": {},
     "output_type": "display_data"
    }
   ],
   "source": [
    "plt.scatter(disease_x_test, disease_y_test)\n",
    "plt.plot(disease_x_test,y_predict)\n",
    "plt.show()"
   ]
  },
  {
   "cell_type": "code",
   "execution_count": null,
   "id": "9ce7fea6",
   "metadata": {},
   "outputs": [],
   "source": []
  }
 ],
 "metadata": {
  "kernelspec": {
   "display_name": "Python 3 (ipykernel)",
   "language": "python",
   "name": "python3"
  },
  "language_info": {
   "codemirror_mode": {
    "name": "ipython",
    "version": 3
   },
   "file_extension": ".py",
   "mimetype": "text/x-python",
   "name": "python",
   "nbconvert_exporter": "python",
   "pygments_lexer": "ipython3",
   "version": "3.9.7"
  }
 },
 "nbformat": 4,
 "nbformat_minor": 5
}
